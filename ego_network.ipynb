{
 "cells": [
  {
   "cell_type": "markdown",
   "id": "2b11584a-a7e3-481f-a0f6-fc270708c851",
   "metadata": {},
   "source": [
    "# Building the ego network"
   ]
  },
  {
   "cell_type": "code",
   "execution_count": null,
   "id": "5f99da3e-115a-49a4-abb6-e5253f937907",
   "metadata": {},
   "outputs": [],
   "source": []
  },
  {
   "cell_type": "code",
   "execution_count": null,
   "id": "1ccac492-496b-4e64-ba45-03c4827b0366",
   "metadata": {},
   "outputs": [],
   "source": []
  },
  {
   "cell_type": "code",
   "execution_count": null,
   "id": "89d3efff-5483-4f7c-8c5b-6e9685336317",
   "metadata": {},
   "outputs": [],
   "source": []
  },
  {
   "cell_type": "code",
   "execution_count": null,
   "id": "69c6b503-2ec7-4a5d-8e57-cc9aae22fc7b",
   "metadata": {},
   "outputs": [],
   "source": []
  },
  {
   "cell_type": "code",
   "execution_count": null,
   "id": "81636706-e423-456c-9848-3e4dae4539fa",
   "metadata": {},
   "outputs": [],
   "source": []
  },
  {
   "cell_type": "code",
   "execution_count": null,
   "id": "a46886b4-2318-435d-b01a-c0fcd32c495a",
   "metadata": {},
   "outputs": [],
   "source": []
  },
  {
   "cell_type": "code",
   "execution_count": null,
   "id": "913e4fcc-81bc-4d13-a04c-6be3d2f709b3",
   "metadata": {},
   "outputs": [],
   "source": []
  }
 ],
 "metadata": {
  "kernelspec": {
   "display_name": "Python 3 (ipykernel)",
   "language": "python",
   "name": "python3"
  },
  "language_info": {
   "codemirror_mode": {
    "name": "ipython",
    "version": 3
   },
   "file_extension": ".py",
   "mimetype": "text/x-python",
   "name": "python",
   "nbconvert_exporter": "python",
   "pygments_lexer": "ipython3",
   "version": "3.9.7"
  }
 },
 "nbformat": 4,
 "nbformat_minor": 5
}
