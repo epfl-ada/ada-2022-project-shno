{
 "cells": [
  {
   "cell_type": "markdown",
   "id": "0a304467-db1f-4da5-b212-f253e59c4466",
   "metadata": {},
   "source": [
    "# Milestone II"
   ]
  },
  {
   "cell_type": "markdown",
   "id": "c4ec5a34-8773-47c2-a18a-f4cfa15c173a",
   "metadata": {},
   "source": [
    "## Network Analysis in Cinematographic Industry\n",
    "**Abstract :  \n",
    "Is Hollywood’s social network composition unique to it or do other movie industries follow suit ?\n",
    "Hollywood is the most famous movie production industry in the world. It has a reputation of being a high-class, exclusive and hard to get in environment. Having a good network is undoubtedly very important to make it there. Clubs, communities and interesting social dynamics between actors, directors, and producers take shape within this environment. This led to Hollywood being what it is nowadays. The question is, is the composition and shape of the Hollywood social network unique to it and part of its “identity” or is it a social network that all movie industries follow / or are bound to ( Bollywood, Chinawood being other major movie industries ). To find an answer, we can make a “co-stardom graph” showing actors who played in the same movies, look at its evolution over time and compute different graph metrics (centrality,…), run cluster analysis and compare these metrics across different industries.**\n",
    "\n",
    "Table of Contents :\n",
    "- [Libraries](#Libraries)\n",
    "- [Data importation](#Data-Importation)\n",
    "- [Data wrangling, cleaning and preprocessing](#Data-wrangling,-cleaning-and-preprocessing)\n",
    "    - [Movie metadata](#Movie-metadata)\n",
    "    - [Plot summaries](#Plot-summaries)\n",
    "    - [Characters](#Character)\n",
    "    - [TV Tropes](#TV-Tropes)\n",
    "- [Analysis](#Data-Importation)"
   ]
  },
  {
   "cell_type": "code",
   "execution_count": 344,
   "id": "94df7d98-f9a3-40f0-a1a3-38417f1d193f",
   "metadata": {},
   "outputs": [
    {
     "name": "stdout",
     "output_type": "stream",
     "text": [
      "Requirement already satisfied: vaderSentiment in c:\\users\\sonusiety\\anaconda3\\lib\\site-packages (3.3.2)\n",
      "Requirement already satisfied: requests in c:\\users\\sonusiety\\anaconda3\\lib\\site-packages (from vaderSentiment) (2.26.0)\n",
      "Requirement already satisfied: charset-normalizer~=2.0.0 in c:\\users\\sonusiety\\anaconda3\\lib\\site-packages (from requests->vaderSentiment) (2.0.4)\n",
      "Requirement already satisfied: certifi>=2017.4.17 in c:\\users\\sonusiety\\anaconda3\\lib\\site-packages (from requests->vaderSentiment) (2021.10.8)\n",
      "Requirement already satisfied: idna<4,>=2.5 in c:\\users\\sonusiety\\anaconda3\\lib\\site-packages (from requests->vaderSentiment) (3.2)\n",
      "Requirement already satisfied: urllib3<1.27,>=1.21.1 in c:\\users\\sonusiety\\anaconda3\\lib\\site-packages (from requests->vaderSentiment) (1.26.7)\n",
      "Requirement already satisfied: pyvis in c:\\users\\sonusiety\\anaconda3\\lib\\site-packages (0.3.1)\n",
      "Requirement already satisfied: networkx>=1.11 in c:\\users\\sonusiety\\anaconda3\\lib\\site-packages (from pyvis) (2.6.3)\n",
      "Requirement already satisfied: jinja2>=2.9.6 in c:\\users\\sonusiety\\anaconda3\\lib\\site-packages (from pyvis) (2.11.3)\n",
      "Requirement already satisfied: ipython>=5.3.0 in c:\\users\\sonusiety\\anaconda3\\lib\\site-packages (from pyvis) (7.29.0)\n",
      "Requirement already satisfied: jsonpickle>=1.4.1 in c:\\users\\sonusiety\\anaconda3\\lib\\site-packages (from pyvis) (2.2.0)\n",
      "Requirement already satisfied: pygments in c:\\users\\sonusiety\\anaconda3\\lib\\site-packages (from ipython>=5.3.0->pyvis) (2.10.0)\n",
      "Requirement already satisfied: traitlets>=4.2 in c:\\users\\sonusiety\\anaconda3\\lib\\site-packages (from ipython>=5.3.0->pyvis) (5.1.0)\n",
      "Requirement already satisfied: matplotlib-inline in c:\\users\\sonusiety\\anaconda3\\lib\\site-packages (from ipython>=5.3.0->pyvis) (0.1.2)\n",
      "Requirement already satisfied: decorator in c:\\users\\sonusiety\\anaconda3\\lib\\site-packages (from ipython>=5.3.0->pyvis) (5.1.0)\n",
      "Requirement already satisfied: colorama in c:\\users\\sonusiety\\anaconda3\\lib\\site-packages (from ipython>=5.3.0->pyvis) (0.4.4)\n",
      "Requirement already satisfied: pickleshare in c:\\users\\sonusiety\\anaconda3\\lib\\site-packages (from ipython>=5.3.0->pyvis) (0.7.5)\n",
      "Requirement already satisfied: jedi>=0.16 in c:\\users\\sonusiety\\anaconda3\\lib\\site-packages (from ipython>=5.3.0->pyvis) (0.17.2)\n",
      "Requirement already satisfied: prompt-toolkit!=3.0.0,!=3.0.1,<3.1.0,>=2.0.0 in c:\\users\\sonusiety\\anaconda3\\lib\\site-packages (from ipython>=5.3.0->pyvis) (3.0.20)\n",
      "Requirement already satisfied: backcall in c:\\users\\sonusiety\\anaconda3\\lib\\site-packages (from ipython>=5.3.0->pyvis) (0.2.0)\n",
      "Requirement already satisfied: setuptools>=18.5 in c:\\users\\sonusiety\\anaconda3\\lib\\site-packages (from ipython>=5.3.0->pyvis) (62.2.0)\n",
      "Requirement already satisfied: parso<0.8.0,>=0.7.0 in c:\\users\\sonusiety\\anaconda3\\lib\\site-packages (from jedi>=0.16->ipython>=5.3.0->pyvis) (0.7.1)\n",
      "Requirement already satisfied: MarkupSafe>=0.23 in c:\\users\\sonusiety\\anaconda3\\lib\\site-packages (from jinja2>=2.9.6->pyvis) (1.1.1)\n",
      "Requirement already satisfied: wcwidth in c:\\users\\sonusiety\\anaconda3\\lib\\site-packages (from prompt-toolkit!=3.0.0,!=3.0.1,<3.1.0,>=2.0.0->ipython>=5.3.0->pyvis) (0.2.5)\n"
     ]
    }
   ],
   "source": [
    "# install library used to perform sentiment analysis\n",
    "!pip install vaderSentiment\n",
    "# interactive graph visualization\n",
    "!pip install pyvis"
   ]
  },
  {
   "cell_type": "markdown",
   "id": "e1a4eff6-2c97-4d98-9866-299c04a53149",
   "metadata": {},
   "source": [
    "## Libraries"
   ]
  },
  {
   "cell_type": "code",
   "execution_count": 345,
   "id": "c8f57797",
   "metadata": {},
   "outputs": [],
   "source": [
    "# import required libraries\n",
    "import pandas as pd\n",
    "from datetime import date\n",
    "import matplotlib.pyplot as plt\n",
    "import numpy as np\n",
    "import ast\n",
    "\n",
    "# sentiment analysis\n",
    "# import vaderSentiment\n",
    "\n",
    "# graphs handling\n",
    "from pyvis.network import Network\n",
    "import networkx as nx\n",
    "import matplotlib.pyplot as plt\n",
    "\n",
    "# set pandas options\n",
    "pd.set_option('display.max_columns', None)\n",
    "pd.set_option('display.max_rows', None)\n",
    "pd.set_option('display.max_colwidth', None)"
   ]
  },
  {
   "cell_type": "markdown",
   "id": "564ed001-afbf-4e0b-aeda-2e606a9e989b",
   "metadata": {},
   "source": [
    "### Data Importation"
   ]
  },
  {
   "cell_type": "code",
   "execution_count": 346,
   "id": "ce0c941e",
   "metadata": {},
   "outputs": [],
   "source": [
    "# set data paths\n",
    "DATA_FOLDER = 'data/MovieSummaries/'\n",
    "IMDB_DATA_FOLDER = 'data/imdb/'\n",
    "\n",
    "CHARACTER_META = DATA_FOLDER+'character.metadata.tsv'\n",
    "MOVIE_META = DATA_FOLDER+'movie.metadata.tsv'\n",
    "NAME_CLUSTERS = DATA_FOLDER+'name.clusters.txt'\n",
    "PLOT_SUMM = DATA_FOLDER+'plot_summaries.txt'\n",
    "TV_TROPES = DATA_FOLDER+'tvtropes.clusters.txt'\n",
    "\n",
    "IMDB_TITLE_BASICS = IMDB_DATA_FOLDER+'title.basics.tsv.gz'"
   ]
  },
  {
   "cell_type": "code",
   "execution_count": 347,
   "id": "5de8eca5",
   "metadata": {},
   "outputs": [],
   "source": [
    "# load movies metadata\n",
    "movie_meta = pd.read_csv(MOVIE_META, sep='\\t', header=None)\n",
    "\n",
    "movie_meta.columns = ['wikipedia_movie_id', 'freebase_movie_id', 'movie_name', 'movie_release_date', 'movie_box_office_revenue',\n",
    "                     'movie_runtime', 'movie_languages', 'movie_countries', 'movie_genres']\n",
    "\n",
    "# load characters metadata\n",
    "character_meta = pd.read_csv(CHARACTER_META, sep='\\t', header=None)\n",
    "character_meta.columns = ['wikipedia_movie_id', 'freebase_movie_id', 'movie_release_date' ,'character_name', 'actor_date_of_birth', 'actor_gender',\n",
    "                    'actor_height_m', 'actor_ethnicity_id', 'actor_name', 'actor_age_at_movie_release', 'freebase_character/actor_map_id',\n",
    "                    'freebase_character_id', 'freebase_actor_id']\n",
    "\n",
    "# load charcter name clusters\n",
    "name_clusters = pd.read_csv(NAME_CLUSTERS, sep='\\t', header=None)\n",
    "name_clusters.columns = ['character_name', 'freebase_character/actor_map_id']\n",
    "\n",
    "# load plot summaries\n",
    "plot_summ = pd.read_csv(PLOT_SUMM, sep='\\t', header=None)\n",
    "plot_summ.columns = ['wikipedia_movie_id', 'summary']\n",
    "\n",
    "# load tv tropes\n",
    "tv_tropes = pd.read_csv(TV_TROPES, sep='\\t', header=None)\n",
    "tv_tropes.columns = ['character_type', 'freebase_character/actor_map_id']"
   ]
  },
  {
   "cell_type": "markdown",
   "id": "cefe1833",
   "metadata": {},
   "source": [
    "## Data wrangling, cleaning and preprocessing\n",
    "\n",
    "### CMU Datasets\n",
    "\n",
    "The data is separated in n different files namely **plot_summaries**, **movie.metadata**, **character.metadata**, **tvtropes.clusters** and **name.clusters**. We will explore the files individually before merging the relevant features on two different dataframes : the first will be movie-centric indexed by movie_id, the second will be cast centered and indexed by the actor_id. This manipulation will ease the construction of graphs involving movie to movie, actor to movie, actor to movie graphs on which we will perform an extensive network analysis.\n",
    "\n",
    "#### Movie metadata\n",
    "\n",
    "The movie metadata file is extracted in a dataframe with the following attributes :  \n",
    "\n",
    "`wikipedia_movie_id`:  wikidata movie id  (str)  \n",
    "`freebase_movie_id`:  freebase movie id  (str)  \n",
    "`movie_name`:  movie name ()  \n",
    "`release_date`:  unformated release date of the movie  ()    \n",
    "`movie_revenue`:  box office revenue ()  \n",
    "`runtime`:   movie runtime ()  \n",
    "`languages`:  movie languages (freebase id name tuples)  \n",
    "`countries`:  movie countries release (freebase id name tuples)  \n",
    "`genres`:  movie genres (freebase id name tuples) \n",
    "\n",
    "Preprocessing notes: \n",
    "- Replacing the index = movie id\n",
    "- formatting the dates attributes\n",
    "- dropping duplicates\n",
    "- treating the NaN values in movie revenue \n",
    "- treating Nan values in movie runtime\n",
    "- desearealize genres/country/languages attributes\n",
    "- treating empty value (\"{}\") in country attribute\n",
    "- normalizing the numeric values (only before performing PCA/Regression/Classification)"
   ]
  },
  {
   "cell_type": "code",
   "execution_count": 348,
   "id": "fedfeed8",
   "metadata": {},
   "outputs": [
    {
     "data": {
      "text/html": [
       "<div>\n",
       "<style scoped>\n",
       "    .dataframe tbody tr th:only-of-type {\n",
       "        vertical-align: middle;\n",
       "    }\n",
       "\n",
       "    .dataframe tbody tr th {\n",
       "        vertical-align: top;\n",
       "    }\n",
       "\n",
       "    .dataframe thead th {\n",
       "        text-align: right;\n",
       "    }\n",
       "</style>\n",
       "<table border=\"1\" class=\"dataframe\">\n",
       "  <thead>\n",
       "    <tr style=\"text-align: right;\">\n",
       "      <th></th>\n",
       "      <th>wikipedia_movie_id</th>\n",
       "      <th>freebase_movie_id</th>\n",
       "      <th>movie_name</th>\n",
       "      <th>movie_release_date</th>\n",
       "      <th>movie_box_office_revenue</th>\n",
       "      <th>movie_runtime</th>\n",
       "      <th>movie_languages</th>\n",
       "      <th>movie_countries</th>\n",
       "      <th>movie_genres</th>\n",
       "    </tr>\n",
       "  </thead>\n",
       "  <tbody>\n",
       "    <tr>\n",
       "      <th>0</th>\n",
       "      <td>975900</td>\n",
       "      <td>/m/03vyhn</td>\n",
       "      <td>Ghosts of Mars</td>\n",
       "      <td>2001-08-24</td>\n",
       "      <td>14010832.0</td>\n",
       "      <td>98.0</td>\n",
       "      <td>{\"/m/02h40lc\": \"English Language\"}</td>\n",
       "      <td>{\"/m/09c7w0\": \"United States of America\"}</td>\n",
       "      <td>{\"/m/01jfsb\": \"Thriller\", \"/m/06n90\": \"Science Fiction\", \"/m/03npn\": \"Horror\", \"/m/03k9fj\": \"Adventure\", \"/m/0fdjb\": \"Supernatural\", \"/m/02kdv5l\": \"Action\", \"/m/09zvmj\": \"Space western\"}</td>\n",
       "    </tr>\n",
       "  </tbody>\n",
       "</table>\n",
       "</div>"
      ],
      "text/plain": [
       "   wikipedia_movie_id freebase_movie_id      movie_name movie_release_date  \\\n",
       "0              975900         /m/03vyhn  Ghosts of Mars         2001-08-24   \n",
       "\n",
       "   movie_box_office_revenue  movie_runtime  \\\n",
       "0                14010832.0           98.0   \n",
       "\n",
       "                      movie_languages  \\\n",
       "0  {\"/m/02h40lc\": \"English Language\"}   \n",
       "\n",
       "                             movie_countries  \\\n",
       "0  {\"/m/09c7w0\": \"United States of America\"}   \n",
       "\n",
       "                                                                                                                                                                                 movie_genres  \n",
       "0  {\"/m/01jfsb\": \"Thriller\", \"/m/06n90\": \"Science Fiction\", \"/m/03npn\": \"Horror\", \"/m/03k9fj\": \"Adventure\", \"/m/0fdjb\": \"Supernatural\", \"/m/02kdv5l\": \"Action\", \"/m/09zvmj\": \"Space western\"}  "
      ]
     },
     "execution_count": 348,
     "metadata": {},
     "output_type": "execute_result"
    }
   ],
   "source": [
    "movie_meta.head(1)"
   ]
  },
  {
   "cell_type": "markdown",
   "id": "9c20a510-f911-4e7b-a149-0c07f89a3543",
   "metadata": {},
   "source": [
    "We compute the ratio of missing values per attribute to see which feature are usable or not for our analysis. We can see that almost 90% of the movie revenue attribute is missing, therefore we will drop this column (maybe try to fill this attribute with IMDb datasets)."
   ]
  },
  {
   "cell_type": "code",
   "execution_count": 349,
   "id": "88721613",
   "metadata": {},
   "outputs": [
    {
     "data": {
      "text/plain": [
       "wikipedia_movie_id           0.000000\n",
       "freebase_movie_id            0.000000\n",
       "movie_name                   0.000000\n",
       "movie_release_date           8.443743\n",
       "movie_box_office_revenue    89.722416\n",
       "movie_runtime               25.018045\n",
       "movie_languages              0.000000\n",
       "movie_countries              0.000000\n",
       "movie_genres                 0.000000\n",
       "dtype: float64"
      ]
     },
     "execution_count": 349,
     "metadata": {},
     "output_type": "execute_result"
    }
   ],
   "source": [
    "# display null values for every column\n",
    "(movie_meta.isna().sum()/len(movie_meta))*100"
   ]
  },
  {
   "cell_type": "markdown",
   "id": "5c319a00-af7c-4f10-90df-9e195bfd2d5d",
   "metadata": {},
   "source": [
    "The next lines prove us that the wikipedia_movie_id and freebase_movie_id can both be used as an index, and that this dataframe contains no duplicates."
   ]
  },
  {
   "cell_type": "code",
   "execution_count": 350,
   "id": "1fdb58f4",
   "metadata": {},
   "outputs": [
    {
     "name": "stdout",
     "output_type": "stream",
     "text": [
      "There are 81741 movies in the CMU database\n"
     ]
    }
   ],
   "source": [
    "# compute number of movies (distinct IDs)\n",
    "n_wiki_movies = movie_meta['wikipedia_movie_id'].nunique()\n",
    "n_freebase_id = movie_meta['freebase_movie_id'].nunique()\n",
    "\n",
    "assert(len(movie_meta) == n_wiki_movies)\n",
    "assert(n_wiki_movies == n_freebase_id)\n",
    "\n",
    "print(f'There are {n_wiki_movies} movies in the CMU database')"
   ]
  },
  {
   "cell_type": "markdown",
   "id": "7c16d29c-5cb1-4aae-a893-0d1f4dea2d96",
   "metadata": {},
   "source": [
    "We then need to convert to format the release date attribute into a dedicated datetime object to ease future computations. "
   ]
  },
  {
   "cell_type": "code",
   "execution_count": 351,
   "id": "e5531848",
   "metadata": {
    "scrolled": true
   },
   "outputs": [
    {
     "data": {
      "text/plain": [
       "wikipedia_movie_id                int64\n",
       "freebase_movie_id                object\n",
       "movie_name                       object\n",
       "movie_release_date               object\n",
       "movie_box_office_revenue        float64\n",
       "movie_runtime                   float64\n",
       "movie_languages                  object\n",
       "movie_countries                  object\n",
       "movie_genres                     object\n",
       "movie_release_date_formatted     object\n",
       "dtype: object"
      ]
     },
     "execution_count": 351,
     "metadata": {},
     "output_type": "execute_result"
    }
   ],
   "source": [
    "# convert dates into date format\n",
    "movie_meta['movie_release_date_formatted'] = pd.to_datetime(movie_meta['movie_release_date'], errors='coerce').apply(lambda x: x.date())\n",
    "movie_meta.dtypes"
   ]
  },
  {
   "cell_type": "markdown",
   "id": "715c4a89-f0db-4ac2-8b39-ada1292e597f",
   "metadata": {},
   "source": [
    "We have to check the instances where the movie year is invalid, and then manually correct it if possible. We are lucky, there is only one instance of such case."
   ]
  },
  {
   "cell_type": "code",
   "execution_count": 352,
   "id": "7fd454a4",
   "metadata": {
    "scrolled": true
   },
   "outputs": [
    {
     "data": {
      "text/html": [
       "<div>\n",
       "<style scoped>\n",
       "    .dataframe tbody tr th:only-of-type {\n",
       "        vertical-align: middle;\n",
       "    }\n",
       "\n",
       "    .dataframe tbody tr th {\n",
       "        vertical-align: top;\n",
       "    }\n",
       "\n",
       "    .dataframe thead th {\n",
       "        text-align: right;\n",
       "    }\n",
       "</style>\n",
       "<table border=\"1\" class=\"dataframe\">\n",
       "  <thead>\n",
       "    <tr style=\"text-align: right;\">\n",
       "      <th></th>\n",
       "      <th>wikipedia_movie_id</th>\n",
       "      <th>freebase_movie_id</th>\n",
       "      <th>movie_name</th>\n",
       "      <th>movie_release_date</th>\n",
       "      <th>movie_box_office_revenue</th>\n",
       "      <th>movie_runtime</th>\n",
       "      <th>movie_languages</th>\n",
       "      <th>movie_countries</th>\n",
       "      <th>movie_genres</th>\n",
       "      <th>movie_release_date_formatted</th>\n",
       "    </tr>\n",
       "  </thead>\n",
       "  <tbody>\n",
       "    <tr>\n",
       "      <th>62836</th>\n",
       "      <td>29666067</td>\n",
       "      <td>/m/0fphzrf</td>\n",
       "      <td>Hunting Season</td>\n",
       "      <td>1010-12-02</td>\n",
       "      <td>12160978.0</td>\n",
       "      <td>140.0</td>\n",
       "      <td>{\"/m/02hwyss\": \"Turkish Language\", \"/m/02h40lc\": \"English Language\"}</td>\n",
       "      <td>{\"/m/01znc_\": \"Turkey\"}</td>\n",
       "      <td>{\"/m/0lsxr\": \"Crime Fiction\", \"/m/02n4kr\": \"Mystery\", \"/m/07s9rl0\": \"Drama\", \"/m/01jfsb\": \"Thriller\"}</td>\n",
       "      <td>NaT</td>\n",
       "    </tr>\n",
       "  </tbody>\n",
       "</table>\n",
       "</div>"
      ],
      "text/plain": [
       "       wikipedia_movie_id freebase_movie_id      movie_name  \\\n",
       "62836            29666067        /m/0fphzrf  Hunting Season   \n",
       "\n",
       "      movie_release_date  movie_box_office_revenue  movie_runtime  \\\n",
       "62836         1010-12-02                12160978.0          140.0   \n",
       "\n",
       "                                                            movie_languages  \\\n",
       "62836  {\"/m/02hwyss\": \"Turkish Language\", \"/m/02h40lc\": \"English Language\"}   \n",
       "\n",
       "               movie_countries  \\\n",
       "62836  {\"/m/01znc_\": \"Turkey\"}   \n",
       "\n",
       "                                                                                                movie_genres  \\\n",
       "62836  {\"/m/0lsxr\": \"Crime Fiction\", \"/m/02n4kr\": \"Mystery\", \"/m/07s9rl0\": \"Drama\", \"/m/01jfsb\": \"Thriller\"}   \n",
       "\n",
       "      movie_release_date_formatted  \n",
       "62836                          NaT  "
      ]
     },
     "execution_count": 352,
     "metadata": {},
     "output_type": "execute_result"
    }
   ],
   "source": [
    "# display instances in which movie year is invalid\n",
    "movie_meta[movie_meta['movie_release_date_formatted'].isnull() & ~(movie_meta['movie_release_date'].isnull())]"
   ]
  },
  {
   "cell_type": "code",
   "execution_count": 353,
   "id": "6f01e024",
   "metadata": {},
   "outputs": [],
   "source": [
    "# correct invalid release dates\n",
    "movie_meta.loc[movie_meta['wikipedia_movie_id'] == 29666067, 'movie_release_date_formatted'] = date(2010, 12, 2)\n",
    "assert 0 == len(movie_meta[movie_meta['movie_release_date_formatted'].isnull() & ~(movie_meta['movie_release_date'].isnull())])"
   ]
  },
  {
   "cell_type": "code",
   "execution_count": 354,
   "id": "c3732cd7",
   "metadata": {
    "scrolled": true
   },
   "outputs": [
    {
     "data": {
      "text/html": [
       "<div>\n",
       "<style scoped>\n",
       "    .dataframe tbody tr th:only-of-type {\n",
       "        vertical-align: middle;\n",
       "    }\n",
       "\n",
       "    .dataframe tbody tr th {\n",
       "        vertical-align: top;\n",
       "    }\n",
       "\n",
       "    .dataframe thead th {\n",
       "        text-align: right;\n",
       "    }\n",
       "</style>\n",
       "<table border=\"1\" class=\"dataframe\">\n",
       "  <thead>\n",
       "    <tr style=\"text-align: right;\">\n",
       "      <th></th>\n",
       "      <th>wikipedia_movie_id</th>\n",
       "      <th>freebase_movie_id</th>\n",
       "      <th>movie_name</th>\n",
       "      <th>movie_release_date</th>\n",
       "      <th>movie_box_office_revenue</th>\n",
       "      <th>movie_runtime</th>\n",
       "      <th>movie_languages</th>\n",
       "      <th>movie_countries</th>\n",
       "      <th>movie_genres</th>\n",
       "      <th>movie_release_date_formatted</th>\n",
       "    </tr>\n",
       "  </thead>\n",
       "  <tbody>\n",
       "    <tr>\n",
       "      <th>62836</th>\n",
       "      <td>29666067</td>\n",
       "      <td>/m/0fphzrf</td>\n",
       "      <td>Hunting Season</td>\n",
       "      <td>1010-12-02</td>\n",
       "      <td>12160978.0</td>\n",
       "      <td>140.0</td>\n",
       "      <td>{\"/m/02hwyss\": \"Turkish Language\", \"/m/02h40lc\": \"English Language\"}</td>\n",
       "      <td>{\"/m/01znc_\": \"Turkey\"}</td>\n",
       "      <td>{\"/m/0lsxr\": \"Crime Fiction\", \"/m/02n4kr\": \"Mystery\", \"/m/07s9rl0\": \"Drama\", \"/m/01jfsb\": \"Thriller\"}</td>\n",
       "      <td>2010-12-02</td>\n",
       "    </tr>\n",
       "  </tbody>\n",
       "</table>\n",
       "</div>"
      ],
      "text/plain": [
       "       wikipedia_movie_id freebase_movie_id      movie_name  \\\n",
       "62836            29666067        /m/0fphzrf  Hunting Season   \n",
       "\n",
       "      movie_release_date  movie_box_office_revenue  movie_runtime  \\\n",
       "62836         1010-12-02                12160978.0          140.0   \n",
       "\n",
       "                                                            movie_languages  \\\n",
       "62836  {\"/m/02hwyss\": \"Turkish Language\", \"/m/02h40lc\": \"English Language\"}   \n",
       "\n",
       "               movie_countries  \\\n",
       "62836  {\"/m/01znc_\": \"Turkey\"}   \n",
       "\n",
       "                                                                                                movie_genres  \\\n",
       "62836  {\"/m/0lsxr\": \"Crime Fiction\", \"/m/02n4kr\": \"Mystery\", \"/m/07s9rl0\": \"Drama\", \"/m/01jfsb\": \"Thriller\"}   \n",
       "\n",
       "      movie_release_date_formatted  \n",
       "62836                   2010-12-02  "
      ]
     },
     "execution_count": 354,
     "metadata": {},
     "output_type": "execute_result"
    }
   ],
   "source": [
    "# corrected data\n",
    "movie_meta[movie_meta['wikipedia_movie_id'] == 29666067]"
   ]
  },
  {
   "cell_type": "code",
   "execution_count": 355,
   "id": "5c3f2d16",
   "metadata": {},
   "outputs": [],
   "source": [
    "# update original column\n",
    "movie_meta['movie_release_date'] = movie_meta['movie_release_date_formatted']\n",
    "del movie_meta['movie_release_date_formatted']\n",
    "# save year\n",
    "movie_meta['movie_release_year'] = movie_meta['movie_release_date'].apply(lambda x: x.year)"
   ]
  },
  {
   "cell_type": "markdown",
   "id": "3bb667d6-9cf1-4377-b041-1b1b13302288",
   "metadata": {},
   "source": []
  },
  {
   "cell_type": "code",
   "execution_count": 356,
   "id": "5af9783b",
   "metadata": {},
   "outputs": [
    {
     "data": {
      "image/png": "[encoded data removed]",
      "text/plain": [
       "<Figure size 432x288 with 1 Axes>"
      ]
     },
     "metadata": {
      "needs_background": "light"
     },
     "output_type": "display_data"
    }
   ],
   "source": [
    "n_bins = int(movie_meta['movie_release_year'].dropna().max() - movie_meta['movie_release_year'].dropna().min())\n",
    "movie_meta['movie_release_year'].plot.hist(bins=n_bins)\n",
    "\n",
    "plt.xlabel('Movie Release Year')\n",
    "plt.ylabel('Number of movies')\n",
    "plt.title('Evolution of yearly movie releases')\n",
    "plt.show()"
   ]
  },
  {
   "cell_type": "code",
   "execution_count": 357,
   "id": "564d0cc0",
   "metadata": {},
   "outputs": [
    {
     "data": {
      "image/png": "[encoded data removed]",
      "text/plain": [
       "<Figure size 432x288 with 1 Axes>"
      ]
     },
     "metadata": {
      "needs_background": "light"
     },
     "output_type": "display_data"
    }
   ],
   "source": [
    "np.log(movie_meta['movie_box_office_revenue']).plot.hist(bins=100)\n",
    "\n",
    "plt.xlabel('Movie Box Office Revenue (log)')\n",
    "plt.ylabel('Number of movies')\n",
    "plt.title('Movie Box office revenue distribution')\n",
    "plt.show()"
   ]
  },
  {
   "cell_type": "code",
   "execution_count": 358,
   "id": "43e9426b",
   "metadata": {
    "scrolled": true
   },
   "outputs": [],
   "source": [
    "# Read imdb to fix data\n",
    "# imdb_title_basics = pd.read_csv(IMDB_TITLE_BASICS, sep='\\t')\n",
    "# imdb_title_basics.columns = ['imdb_' + cn for cn in imdb_title_basics.columns]"
   ]
  },
  {
   "cell_type": "code",
   "execution_count": 359,
   "id": "a7f4b898",
   "metadata": {
    "scrolled": true
   },
   "outputs": [],
   "source": [
    "# # display null values\n",
    "# imdb_title_basics.isna().sum()"
   ]
  },
  {
   "cell_type": "code",
   "execution_count": 360,
   "id": "294405dd",
   "metadata": {},
   "outputs": [],
   "source": [
    "# movie_meta_imdb_merged = movie_meta.merge(imdb_title_basics, how='left', left_on='movie_name', right_on='imdb_primaryTitle')"
   ]
  },
  {
   "cell_type": "code",
   "execution_count": 361,
   "id": "597ac3c7",
   "metadata": {},
   "outputs": [],
   "source": [
    "# movie_meta_imdb_merged.head()"
   ]
  },
  {
   "cell_type": "code",
   "execution_count": 362,
   "id": "02047048",
   "metadata": {},
   "outputs": [],
   "source": [
    "# imdb_title_basics.head()"
   ]
  },
  {
   "cell_type": "code",
   "execution_count": 363,
   "id": "1aabfc93",
   "metadata": {},
   "outputs": [
    {
     "data": {
      "image/png": "[encoded data removed]",
      "text/plain": [
       "<Figure size 432x288 with 1 Axes>"
      ]
     },
     "metadata": {
      "needs_background": "light"
     },
     "output_type": "display_data"
    },
    {
     "data": {
      "text/plain": [
       "0     98.0\n",
       "1     95.0\n",
       "2     83.0\n",
       "3    110.0\n",
       "4    106.0\n",
       "Name: movie_runtime, dtype: float64"
      ]
     },
     "execution_count": 363,
     "metadata": {},
     "output_type": "execute_result"
    }
   ],
   "source": [
    "# Distribution of movie runtime\n",
    "movie_meta['movie_runtime'].plot.box()\n",
    "\n",
    "plt.ylabel('Movie Runtime')\n",
    "plt.title('Movie Box office revenue distribution')\n",
    "plt.show()\n",
    "movie_meta['movie_runtime'].head()"
   ]
  },
  {
   "cell_type": "code",
   "execution_count": 364,
   "id": "f81da84c",
   "metadata": {
    "scrolled": true
   },
   "outputs": [
    {
     "data": {
      "text/html": [
       "<div>\n",
       "<style scoped>\n",
       "    .dataframe tbody tr th:only-of-type {\n",
       "        vertical-align: middle;\n",
       "    }\n",
       "\n",
       "    .dataframe tbody tr th {\n",
       "        vertical-align: top;\n",
       "    }\n",
       "\n",
       "    .dataframe thead th {\n",
       "        text-align: right;\n",
       "    }\n",
       "</style>\n",
       "<table border=\"1\" class=\"dataframe\">\n",
       "  <thead>\n",
       "    <tr style=\"text-align: right;\">\n",
       "      <th></th>\n",
       "      <th>wikipedia_movie_id</th>\n",
       "      <th>freebase_movie_id</th>\n",
       "      <th>movie_name</th>\n",
       "      <th>movie_release_date</th>\n",
       "      <th>movie_box_office_revenue</th>\n",
       "      <th>movie_runtime</th>\n",
       "      <th>movie_languages</th>\n",
       "      <th>movie_countries</th>\n",
       "      <th>movie_genres</th>\n",
       "      <th>movie_release_year</th>\n",
       "    </tr>\n",
       "  </thead>\n",
       "  <tbody>\n",
       "    <tr>\n",
       "      <th>12804</th>\n",
       "      <td>10815585</td>\n",
       "      <td>/m/02qqy23</td>\n",
       "      <td>Zero Tolerance</td>\n",
       "      <td>1995-01-01</td>\n",
       "      <td>NaN</td>\n",
       "      <td>1079281.0</td>\n",
       "      <td>{\"/m/02h40lc\": \"English Language\"}</td>\n",
       "      <td>{\"/m/09c7w0\": \"United States of America\"}</td>\n",
       "      <td>{\"/m/01jfsb\": \"Thriller\", \"/m/0lsxr\": \"Crime Fiction\", \"/m/02kdv5l\": \"Action\", \"/m/0219x_\": \"Indie\", \"/m/03btsm8\": \"Action/Adventure\"}</td>\n",
       "      <td>1995.0</td>\n",
       "    </tr>\n",
       "    <tr>\n",
       "      <th>62962</th>\n",
       "      <td>32441022</td>\n",
       "      <td>/m/0gyr803</td>\n",
       "      <td>Modern Times Forever</td>\n",
       "      <td>NaT</td>\n",
       "      <td>NaN</td>\n",
       "      <td>14400.0</td>\n",
       "      <td>{}</td>\n",
       "      <td>{}</td>\n",
       "      <td>{\"/m/0jtdp\": \"Documentary\"}</td>\n",
       "      <td>NaN</td>\n",
       "    </tr>\n",
       "    <tr>\n",
       "      <th>71100</th>\n",
       "      <td>25345684</td>\n",
       "      <td>/m/09gqhh3</td>\n",
       "      <td>Cinématon</td>\n",
       "      <td>2011-01-01</td>\n",
       "      <td>NaN</td>\n",
       "      <td>9360.0</td>\n",
       "      <td>{\"/m/064_8sq\": \"French Language\"}</td>\n",
       "      <td>{\"/m/0f8l9c\": \"France\"}</td>\n",
       "      <td>{\"/m/0424mc\": \"Experimental film\", \"/m/0jtdp\": \"Documentary\"}</td>\n",
       "      <td>2011.0</td>\n",
       "    </tr>\n",
       "    <tr>\n",
       "      <th>21733</th>\n",
       "      <td>14545195</td>\n",
       "      <td>/m/03qcghh</td>\n",
       "      <td>Matrjoschka</td>\n",
       "      <td>2006-04-23</td>\n",
       "      <td>NaN</td>\n",
       "      <td>5700.0</td>\n",
       "      <td>{}</td>\n",
       "      <td>{\"/m/0345h\": \"Germany\"}</td>\n",
       "      <td>{\"/m/0219x_\": \"Indie\", \"/m/0jtdp\": \"Documentary\"}</td>\n",
       "      <td>2006.0</td>\n",
       "    </tr>\n",
       "    <tr>\n",
       "      <th>46666</th>\n",
       "      <td>884435</td>\n",
       "      <td>/m/03lmv2</td>\n",
       "      <td>The Cure for Insomnia</td>\n",
       "      <td>1987-01-31</td>\n",
       "      <td>NaN</td>\n",
       "      <td>5220.0</td>\n",
       "      <td>{\"/m/02h40lc\": \"English Language\"}</td>\n",
       "      <td>{\"/m/09c7w0\": \"United States of America\"}</td>\n",
       "      <td>{\"/m/02n4lw\": \"Art film\"}</td>\n",
       "      <td>1987.0</td>\n",
       "    </tr>\n",
       "  </tbody>\n",
       "</table>\n",
       "</div>"
      ],
      "text/plain": [
       "       wikipedia_movie_id freebase_movie_id             movie_name  \\\n",
       "12804            10815585        /m/02qqy23         Zero Tolerance   \n",
       "62962            32441022        /m/0gyr803   Modern Times Forever   \n",
       "71100            25345684        /m/09gqhh3              Cinématon   \n",
       "21733            14545195        /m/03qcghh            Matrjoschka   \n",
       "46666              884435         /m/03lmv2  The Cure for Insomnia   \n",
       "\n",
       "      movie_release_date  movie_box_office_revenue  movie_runtime  \\\n",
       "12804         1995-01-01                       NaN      1079281.0   \n",
       "62962                NaT                       NaN        14400.0   \n",
       "71100         2011-01-01                       NaN         9360.0   \n",
       "21733         2006-04-23                       NaN         5700.0   \n",
       "46666         1987-01-31                       NaN         5220.0   \n",
       "\n",
       "                          movie_languages  \\\n",
       "12804  {\"/m/02h40lc\": \"English Language\"}   \n",
       "62962                                  {}   \n",
       "71100   {\"/m/064_8sq\": \"French Language\"}   \n",
       "21733                                  {}   \n",
       "46666  {\"/m/02h40lc\": \"English Language\"}   \n",
       "\n",
       "                                 movie_countries  \\\n",
       "12804  {\"/m/09c7w0\": \"United States of America\"}   \n",
       "62962                                         {}   \n",
       "71100                    {\"/m/0f8l9c\": \"France\"}   \n",
       "21733                    {\"/m/0345h\": \"Germany\"}   \n",
       "46666  {\"/m/09c7w0\": \"United States of America\"}   \n",
       "\n",
       "                                                                                                                                 movie_genres  \\\n",
       "12804  {\"/m/01jfsb\": \"Thriller\", \"/m/0lsxr\": \"Crime Fiction\", \"/m/02kdv5l\": \"Action\", \"/m/0219x_\": \"Indie\", \"/m/03btsm8\": \"Action/Adventure\"}   \n",
       "62962                                                                                                             {\"/m/0jtdp\": \"Documentary\"}   \n",
       "71100                                                                           {\"/m/0424mc\": \"Experimental film\", \"/m/0jtdp\": \"Documentary\"}   \n",
       "21733                                                                                       {\"/m/0219x_\": \"Indie\", \"/m/0jtdp\": \"Documentary\"}   \n",
       "46666                                                                                                               {\"/m/02n4lw\": \"Art film\"}   \n",
       "\n",
       "       movie_release_year  \n",
       "12804              1995.0  \n",
       "62962                 NaN  \n",
       "71100              2011.0  \n",
       "21733              2006.0  \n",
       "46666              1987.0  "
      ]
     },
     "execution_count": 364,
     "metadata": {},
     "output_type": "execute_result"
    }
   ],
   "source": [
    "# Display outliers\n",
    "movie_meta.sort_values(by='movie_runtime', ascending=False).head()"
   ]
  },
  {
   "cell_type": "markdown",
   "id": "0fa51cf9",
   "metadata": {},
   "source": [
    "To fix outliers and missing values, we plan to use the imdb dataset to find if we can extract the values from it."
   ]
  },
  {
   "cell_type": "code",
   "execution_count": 365,
   "id": "54b71f3a",
   "metadata": {},
   "outputs": [
    {
     "data": {
      "image/png": "[encoded data removed]",
      "text/plain": [
       "<Figure size 432x288 with 1 Axes>"
      ]
     },
     "metadata": {
      "needs_background": "light"
     },
     "output_type": "display_data"
    }
   ],
   "source": [
    "# Distribution of movie runtime\n",
    "# We display values between 0.05 and 0.95 quantiles as we will fix the outliers with the imdb dataset\n",
    "display_range = (movie_meta['movie_runtime'].quantile(0.05), movie_meta['movie_runtime'].quantile(0.95))\n",
    "movie_meta['movie_runtime'].plot.hist(bins=50, range=display_range)\n",
    "\n",
    "plt.xlabel('Movie Runtime')\n",
    "plt.ylabel('Number of movies')\n",
    "plt.title('Movie runtime distribution between 0.05 and 0.95 quantiles')\n",
    "plt.show()"
   ]
  },
  {
   "cell_type": "code",
   "execution_count": 366,
   "id": "8e55b3c6",
   "metadata": {},
   "outputs": [],
   "source": [
    "test_meta = movie_meta"
   ]
  },
  {
   "cell_type": "code",
   "execution_count": 367,
   "id": "042517ce",
   "metadata": {},
   "outputs": [],
   "source": [
    "test_meta.loc[:, 'movie_languages_ids'] = test_meta['movie_languages'].apply(lambda x: ast.literal_eval(x).values())\n",
    "test_meta.loc[:, 'movie_countries_ids'] = test_meta['movie_countries'].apply(lambda x: ast.literal_eval(x).values())\n",
    "test_meta.loc[:, 'movie_genres_ids'] = test_meta['movie_genres'].apply(lambda x: ast.literal_eval(x).values())"
   ]
  },
  {
   "cell_type": "code",
   "execution_count": 368,
   "id": "fd184f74",
   "metadata": {},
   "outputs": [],
   "source": [
    "language_ids = pd.Series([language for languages in test_meta['movie_languages_ids'] for language in languages])\n",
    "language_counts = language_ids.value_counts()[:10]\n",
    "\n",
    "country_ids = pd.Series([country for countries in test_meta['movie_countries_ids'] for country in countries])\n",
    "country_counts = country_ids.value_counts()[:10]\n",
    "\n",
    "genre_ids = pd.Series([genre for genres in test_meta['movie_genres_ids'] for genre in genres])\n",
    "genre_counts = genre_ids.value_counts()[:10]"
   ]
  },
  {
   "cell_type": "code",
   "execution_count": 369,
   "id": "830f1dc2",
   "metadata": {},
   "outputs": [
    {
     "data": {
      "image/png": "[encoded data removed]",
      "text/plain": [
       "<Figure size 1440x1800 with 3 Axes>"
      ]
     },
     "metadata": {
      "needs_background": "light"
     },
     "output_type": "display_data"
    }
   ],
   "source": [
    "fig, (ax1, ax2, ax3) = plt.subplots(3, figsize=(20, 25))\n",
    "ax1.bar(x=language_counts.index, height=language_counts.values)\n",
    "ax1.set_xlabel('Language')\n",
    "ax1.set_ylabel('Number of movies')\n",
    "ax1.set_title('The 10 most frequent languages')\n",
    "\n",
    "ax2.bar(x=country_counts.index, height=country_counts.values)\n",
    "ax2.set_xlabel('Country')\n",
    "ax2.set_ylabel('Number of movies')\n",
    "ax2.set_title('The 10 most frequent countries')\n",
    "\n",
    "ax3.bar(x=genre_counts.index, height=genre_counts.values)\n",
    "ax3.set_xlabel('Genre')\n",
    "ax3.set_ylabel('Number of movies')\n",
    "ax3.set_title('The 10 most frequent genres')\n",
    "\n",
    "plt.show()"
   ]
  },
  {
   "cell_type": "markdown",
   "id": "e992d199-51cf-4082-abcb-3e28984ce143",
   "metadata": {},
   "source": [
    "#### Plot summaries\n",
    "\n",
    "The plot summary file is extracted in a dataframe with the following attributes :\n",
    "\n",
    "`wikipedia_movie_id`:  wikidata movie id  (str)    \n",
    "`plot_summary`:  wikidata plot summary of the movie  (str) \n",
    "\n",
    "Preprocessing notes:\n",
    "- indexing using the movie id\n",
    "- nlp methods : using spaCy nlp framework\n",
    "  ** tokenize\n",
    "  ** parse \n",
    "  ** removing stop word\n",
    "  ** lemmatise \n",
    "  ** topic prediction using Empath library \n",
    "  ** sentiment analysis using Vader\n",
    "- joining this dataset with movie dataset\n",
    "- character encoding\n",
    "- remove wikipedia markup sign e.g {{hatnote}}"
   ]
  },
  {
   "cell_type": "code",
   "execution_count": 370,
   "id": "79a7dc52",
   "metadata": {},
   "outputs": [
    {
     "data": {
      "text/html": [
       "<div>\n",
       "<style scoped>\n",
       "    .dataframe tbody tr th:only-of-type {\n",
       "        vertical-align: middle;\n",
       "    }\n",
       "\n",
       "    .dataframe tbody tr th {\n",
       "        vertical-align: top;\n",
       "    }\n",
       "\n",
       "    .dataframe thead th {\n",
       "        text-align: right;\n",
       "    }\n",
       "</style>\n",
       "<table border=\"1\" class=\"dataframe\">\n",
       "  <thead>\n",
       "    <tr style=\"text-align: right;\">\n",
       "      <th></th>\n",
       "      <th>wikipedia_movie_id</th>\n",
       "      <th>summary</th>\n",
       "    </tr>\n",
       "  </thead>\n",
       "  <tbody>\n",
       "    <tr>\n",
       "      <th>0</th>\n",
       "      <td>23890098</td>\n",
       "      <td>Shlykov, a hard-working taxi driver and Lyosha, a saxophonist, develop a bizarre love-hate relationship, and despite their prejudices, realize they aren't so different after all.</td>\n",
       "    </tr>\n",
       "  </tbody>\n",
       "</table>\n",
       "</div>"
      ],
      "text/plain": [
       "   wikipedia_movie_id  \\\n",
       "0            23890098   \n",
       "\n",
       "                                                                                                                                                                              summary  \n",
       "0  Shlykov, a hard-working taxi driver and Lyosha, a saxophonist, develop a bizarre love-hate relationship, and despite their prejudices, realize they aren't so different after all.  "
      ]
     },
     "execution_count": 370,
     "metadata": {},
     "output_type": "execute_result"
    }
   ],
   "source": [
    "plot_summ.head(1)"
   ]
  },
  {
   "cell_type": "code",
   "execution_count": 371,
   "id": "e16fa7f3-e94a-4068-b2e5-a957a19811d5",
   "metadata": {},
   "outputs": [
    {
     "data": {
      "image/png": "[encoded data removed]",
      "text/plain": [
       "<Figure size 432x288 with 2 Axes>"
      ]
     },
     "metadata": {
      "needs_background": "light"
     },
     "output_type": "display_data"
    }
   ],
   "source": [
    "# Using trivial tokenizer\n",
    "plot_summ['count'] = plot_summ['summary'].apply(lambda x: len(x.split()))\n",
    "\n",
    "fig, axes = plt.subplots(nrows=1, ncols=2)\n",
    "plot_summ['count'].plot(kind='hist', ax = axes[0], bins=50)\n",
    "plot_summ['count'].plot(kind='hist', logy=True, bins=50, ax=axes[1])\n",
    "#plt.suptitle('Plot summary word count distribution', x=0.5, y=1.05, ha='center', fontsize='xx-large')\n",
    "axes[0].title.set_text('Word count distribution')\n",
    "axes[1].title.set_text('Log scaled word count distribution')\n",
    "fig.tight_layout()"
   ]
  },
  {
   "cell_type": "markdown",
   "id": "8a07aa0c-6653-4c88-a861-b6abc0f8562e",
   "metadata": {},
   "source": [
    "We can merge the two previous datasets namely containing namely plot_summary and movie_metadata information into a single dataframe. Unfortunately, the plot_summary dataframe contains the summary of 42303 movies far from the 81741 movies described in the movie_metadata dataframe. The intersection of the dataframes on movie_id yields 42204 collisions, meaning that 99 summaries were not matched with a movie. We will thus keep it as a separate dataframe in case we need it."
   ]
  },
  {
   "cell_type": "code",
   "execution_count": 372,
   "id": "5934c91d-fb4a-4ae5-a4e2-0f93fe4bf606",
   "metadata": {},
   "outputs": [
    {
     "data": {
      "text/html": [
       "<div>\n",
       "<style scoped>\n",
       "    .dataframe tbody tr th:only-of-type {\n",
       "        vertical-align: middle;\n",
       "    }\n",
       "\n",
       "    .dataframe tbody tr th {\n",
       "        vertical-align: top;\n",
       "    }\n",
       "\n",
       "    .dataframe thead th {\n",
       "        text-align: right;\n",
       "    }\n",
       "</style>\n",
       "<table border=\"1\" class=\"dataframe\">\n",
       "  <thead>\n",
       "    <tr style=\"text-align: right;\">\n",
       "      <th></th>\n",
       "      <th>freebase_movie_id</th>\n",
       "      <th>movie_name</th>\n",
       "      <th>movie_release_date</th>\n",
       "      <th>movie_box_office_revenue</th>\n",
       "      <th>movie_runtime</th>\n",
       "      <th>movie_languages</th>\n",
       "      <th>movie_countries</th>\n",
       "      <th>movie_genres</th>\n",
       "      <th>movie_release_year</th>\n",
       "      <th>movie_languages_ids</th>\n",
       "      <th>movie_countries_ids</th>\n",
       "      <th>movie_genres_ids</th>\n",
       "      <th>summary</th>\n",
       "      <th>count</th>\n",
       "    </tr>\n",
       "    <tr>\n",
       "      <th>wikipedia_movie_id</th>\n",
       "      <th></th>\n",
       "      <th></th>\n",
       "      <th></th>\n",
       "      <th></th>\n",
       "      <th></th>\n",
       "      <th></th>\n",
       "      <th></th>\n",
       "      <th></th>\n",
       "      <th></th>\n",
       "      <th></th>\n",
       "      <th></th>\n",
       "      <th></th>\n",
       "      <th></th>\n",
       "      <th></th>\n",
       "    </tr>\n",
       "  </thead>\n",
       "  <tbody>\n",
       "    <tr>\n",
       "      <th>330</th>\n",
       "      <td>/m/0ktn59</td>\n",
       "      <td>Actrius</td>\n",
       "      <td>1996-01-01</td>\n",
       "      <td>NaN</td>\n",
       "      <td>90.0</td>\n",
       "      <td>{\"/m/01m69\": \"Catalan language\", \"/m/06nm1\": \"Spanish Language\"}</td>\n",
       "      <td>{\"/m/06mkj\": \"Spain\"}</td>\n",
       "      <td>{\"/m/07s9rl0\": \"Drama\", \"/m/01t_vv\": \"Comedy-drama\"}</td>\n",
       "      <td>1996.0</td>\n",
       "      <td>(Catalan language, Spanish Language)</td>\n",
       "      <td>(Spain)</td>\n",
       "      <td>(Drama, Comedy-drama)</td>\n",
       "      <td>In order to prepare the role of an important old actress, a theatre student interviews three actresses who were her pupils: an international diva , a television star  and a dubbing director .</td>\n",
       "      <td>33</td>\n",
       "    </tr>\n",
       "  </tbody>\n",
       "</table>\n",
       "</div>"
      ],
      "text/plain": [
       "                   freebase_movie_id movie_name movie_release_date  \\\n",
       "wikipedia_movie_id                                                   \n",
       "330                        /m/0ktn59    Actrius         1996-01-01   \n",
       "\n",
       "                    movie_box_office_revenue  movie_runtime  \\\n",
       "wikipedia_movie_id                                            \n",
       "330                                      NaN           90.0   \n",
       "\n",
       "                                                                     movie_languages  \\\n",
       "wikipedia_movie_id                                                                     \n",
       "330                 {\"/m/01m69\": \"Catalan language\", \"/m/06nm1\": \"Spanish Language\"}   \n",
       "\n",
       "                          movie_countries  \\\n",
       "wikipedia_movie_id                          \n",
       "330                 {\"/m/06mkj\": \"Spain\"}   \n",
       "\n",
       "                                                            movie_genres  \\\n",
       "wikipedia_movie_id                                                         \n",
       "330                 {\"/m/07s9rl0\": \"Drama\", \"/m/01t_vv\": \"Comedy-drama\"}   \n",
       "\n",
       "                    movie_release_year                   movie_languages_ids  \\\n",
       "wikipedia_movie_id                                                             \n",
       "330                             1996.0  (Catalan language, Spanish Language)   \n",
       "\n",
       "                   movie_countries_ids       movie_genres_ids  \\\n",
       "wikipedia_movie_id                                              \n",
       "330                            (Spain)  (Drama, Comedy-drama)   \n",
       "\n",
       "                                                                                                                                                                                                            summary  \\\n",
       "wikipedia_movie_id                                                                                                                                                                                                    \n",
       "330                 In order to prepare the role of an important old actress, a theatre student interviews three actresses who were her pupils: an international diva , a television star  and a dubbing director .   \n",
       "\n",
       "                    count  \n",
       "wikipedia_movie_id         \n",
       "330                    33  "
      ]
     },
     "execution_count": 372,
     "metadata": {},
     "output_type": "execute_result"
    }
   ],
   "source": [
    "merged = pd.merge(movie_meta, plot_summ, left_on='wikipedia_movie_id', right_on='wikipedia_movie_id')\n",
    "\n",
    "merged.index = merged.wikipedia_movie_id\n",
    "merged = merged.drop(columns=['wikipedia_movie_id']).sort_values(by='wikipedia_movie_id')\n",
    "merged.head(1)"
   ]
  },
  {
   "cell_type": "markdown",
   "id": "b74ecb83-48cb-4719-a16a-713f6f038d59",
   "metadata": {},
   "source": [
    "#### Character \n",
    "\n",
    "The character metadata file is extracted in a dataframe with the following attributes :\n",
    "\n",
    "`wikipedia_movie_id`:  wikidata movie id  ()  \n",
    "`freebase_movie_id`:  freebase movie id  ()  \n",
    "`release_date`:  unformated release date of the movie  ()   \n",
    "`character_name`:  character name  ()  \n",
    "`actor_date_of_birth`:  actor date of birth ()  \n",
    "`actor_gender`:  actor gender (str)  \n",
    "`actor_height`:  actor height ()  \n",
    "`actor_ethnicity`: actor ethnicity specified with a freebase id   \n",
    "`actor_name`:  actor name  ()  \n",
    "`actor_age_movie_release`:  actor age at movie release date ()  \n",
    "`freebase_character_to_actor`:   mapping from character freebase id to actor id ()  \n",
    "`freebase_character_id`:  character freebase id ()  \n",
    "`freebase_actor_id`:  actor freebase id ()\n",
    "\n",
    "\n",
    "Preprocessing notes: \n",
    "- joining this character dataset with the previous dataframe on wikipedia movie id\n",
    "- formatting the dates\n",
    "- verify that the freebase id of the actor is unique so it can be used as an index for actors\n",
    "- merge actor and character dataframe\n",
    "- sentiment analysis on the m neighbours words surrounding the character name"
   ]
  },
  {
   "cell_type": "code",
   "execution_count": 373,
   "id": "72435272",
   "metadata": {},
   "outputs": [
    {
     "data": {
      "text/html": [
       "<div>\n",
       "<style scoped>\n",
       "    .dataframe tbody tr th:only-of-type {\n",
       "        vertical-align: middle;\n",
       "    }\n",
       "\n",
       "    .dataframe tbody tr th {\n",
       "        vertical-align: top;\n",
       "    }\n",
       "\n",
       "    .dataframe thead th {\n",
       "        text-align: right;\n",
       "    }\n",
       "</style>\n",
       "<table border=\"1\" class=\"dataframe\">\n",
       "  <thead>\n",
       "    <tr style=\"text-align: right;\">\n",
       "      <th></th>\n",
       "      <th>wikipedia_movie_id</th>\n",
       "      <th>freebase_movie_id</th>\n",
       "      <th>movie_release_date</th>\n",
       "      <th>character_name</th>\n",
       "      <th>actor_date_of_birth</th>\n",
       "      <th>actor_gender</th>\n",
       "      <th>actor_height_m</th>\n",
       "      <th>actor_ethnicity_id</th>\n",
       "      <th>actor_name</th>\n",
       "      <th>actor_age_at_movie_release</th>\n",
       "      <th>freebase_character/actor_map_id</th>\n",
       "      <th>freebase_character_id</th>\n",
       "      <th>freebase_actor_id</th>\n",
       "    </tr>\n",
       "  </thead>\n",
       "  <tbody>\n",
       "    <tr>\n",
       "      <th>0</th>\n",
       "      <td>975900</td>\n",
       "      <td>/m/03vyhn</td>\n",
       "      <td>2001-08-24</td>\n",
       "      <td>Akooshay</td>\n",
       "      <td>1958-08-26</td>\n",
       "      <td>F</td>\n",
       "      <td>1.620</td>\n",
       "      <td>NaN</td>\n",
       "      <td>Wanda De Jesus</td>\n",
       "      <td>42.0</td>\n",
       "      <td>/m/0bgchxw</td>\n",
       "      <td>/m/0bgcj3x</td>\n",
       "      <td>/m/03wcfv7</td>\n",
       "    </tr>\n",
       "    <tr>\n",
       "      <th>1</th>\n",
       "      <td>975900</td>\n",
       "      <td>/m/03vyhn</td>\n",
       "      <td>2001-08-24</td>\n",
       "      <td>Lieutenant Melanie Ballard</td>\n",
       "      <td>1974-08-15</td>\n",
       "      <td>F</td>\n",
       "      <td>1.780</td>\n",
       "      <td>/m/044038p</td>\n",
       "      <td>Natasha Henstridge</td>\n",
       "      <td>27.0</td>\n",
       "      <td>/m/0jys3m</td>\n",
       "      <td>/m/0bgchn4</td>\n",
       "      <td>/m/0346l4</td>\n",
       "    </tr>\n",
       "    <tr>\n",
       "      <th>2</th>\n",
       "      <td>975900</td>\n",
       "      <td>/m/03vyhn</td>\n",
       "      <td>2001-08-24</td>\n",
       "      <td>Desolation Williams</td>\n",
       "      <td>1969-06-15</td>\n",
       "      <td>M</td>\n",
       "      <td>1.727</td>\n",
       "      <td>/m/0x67</td>\n",
       "      <td>Ice Cube</td>\n",
       "      <td>32.0</td>\n",
       "      <td>/m/0jys3g</td>\n",
       "      <td>/m/0bgchn_</td>\n",
       "      <td>/m/01vw26l</td>\n",
       "    </tr>\n",
       "    <tr>\n",
       "      <th>3</th>\n",
       "      <td>975900</td>\n",
       "      <td>/m/03vyhn</td>\n",
       "      <td>2001-08-24</td>\n",
       "      <td>Sgt Jericho Butler</td>\n",
       "      <td>1967-09-12</td>\n",
       "      <td>M</td>\n",
       "      <td>1.750</td>\n",
       "      <td>NaN</td>\n",
       "      <td>Jason Statham</td>\n",
       "      <td>33.0</td>\n",
       "      <td>/m/02vchl6</td>\n",
       "      <td>/m/0bgchnq</td>\n",
       "      <td>/m/034hyc</td>\n",
       "    </tr>\n",
       "    <tr>\n",
       "      <th>4</th>\n",
       "      <td>975900</td>\n",
       "      <td>/m/03vyhn</td>\n",
       "      <td>2001-08-24</td>\n",
       "      <td>Bashira Kincaid</td>\n",
       "      <td>1977-09-25</td>\n",
       "      <td>F</td>\n",
       "      <td>1.650</td>\n",
       "      <td>NaN</td>\n",
       "      <td>Clea DuVall</td>\n",
       "      <td>23.0</td>\n",
       "      <td>/m/02vbb3r</td>\n",
       "      <td>/m/0bgchp9</td>\n",
       "      <td>/m/01y9xg</td>\n",
       "    </tr>\n",
       "  </tbody>\n",
       "</table>\n",
       "</div>"
      ],
      "text/plain": [
       "   wikipedia_movie_id freebase_movie_id movie_release_date  \\\n",
       "0              975900         /m/03vyhn         2001-08-24   \n",
       "1              975900         /m/03vyhn         2001-08-24   \n",
       "2              975900         /m/03vyhn         2001-08-24   \n",
       "3              975900         /m/03vyhn         2001-08-24   \n",
       "4              975900         /m/03vyhn         2001-08-24   \n",
       "\n",
       "               character_name actor_date_of_birth actor_gender  \\\n",
       "0                    Akooshay          1958-08-26            F   \n",
       "1  Lieutenant Melanie Ballard          1974-08-15            F   \n",
       "2         Desolation Williams          1969-06-15            M   \n",
       "3          Sgt Jericho Butler          1967-09-12            M   \n",
       "4             Bashira Kincaid          1977-09-25            F   \n",
       "\n",
       "   actor_height_m actor_ethnicity_id          actor_name  \\\n",
       "0           1.620                NaN      Wanda De Jesus   \n",
       "1           1.780         /m/044038p  Natasha Henstridge   \n",
       "2           1.727            /m/0x67            Ice Cube   \n",
       "3           1.750                NaN       Jason Statham   \n",
       "4           1.650                NaN         Clea DuVall   \n",
       "\n",
       "   actor_age_at_movie_release freebase_character/actor_map_id  \\\n",
       "0                        42.0                      /m/0bgchxw   \n",
       "1                        27.0                       /m/0jys3m   \n",
       "2                        32.0                       /m/0jys3g   \n",
       "3                        33.0                      /m/02vchl6   \n",
       "4                        23.0                      /m/02vbb3r   \n",
       "\n",
       "  freebase_character_id freebase_actor_id  \n",
       "0            /m/0bgcj3x        /m/03wcfv7  \n",
       "1            /m/0bgchn4         /m/0346l4  \n",
       "2            /m/0bgchn_        /m/01vw26l  \n",
       "3            /m/0bgchnq         /m/034hyc  \n",
       "4            /m/0bgchp9         /m/01y9xg  "
      ]
     },
     "execution_count": 373,
     "metadata": {},
     "output_type": "execute_result"
    }
   ],
   "source": [
    "character_meta.head()"
   ]
  },
  {
   "cell_type": "code",
   "execution_count": 374,
   "id": "0f757ede",
   "metadata": {},
   "outputs": [
    {
     "data": {
      "image/png": "[encoded data removed]",
      "text/plain": [
       "<Figure size 432x288 with 1 Axes>"
      ]
     },
     "metadata": {
      "needs_background": "light"
     },
     "output_type": "display_data"
    },
    {
     "data": {
      "image/png": "[encoded data removed]",
      "text/plain": [
       "<Figure size 432x288 with 1 Axes>"
      ]
     },
     "metadata": {
      "needs_background": "light"
     },
     "output_type": "display_data"
    }
   ],
   "source": [
    "character_meta['actor_gender'].value_counts().plot.bar()\n",
    "plt.xlabel('Actor gender')\n",
    "plt.ylabel('Number of movies')\n",
    "plt.title('Actor genders in movies')\n",
    "plt.show()\n",
    "character_meta['actor_ethnicity_id'].value_counts()[:10].plot.bar()\n",
    "plt.xlabel('Actor ethnicity')\n",
    "plt.ylabel('Number of movies')\n",
    "plt.title('Actor ethnicities in movies')\n",
    "plt.show()"
   ]
  },
  {
   "cell_type": "code",
   "execution_count": 375,
   "id": "6cbc5cdd",
   "metadata": {},
   "outputs": [
    {
     "data": {
      "image/png": "[encoded data removed]",
      "text/plain": [
       "<Figure size 432x288 with 1 Axes>"
      ]
     },
     "metadata": {
      "needs_background": "light"
     },
     "output_type": "display_data"
    },
    {
     "data": {
      "image/png": "[encoded data removed]",
      "text/plain": [
       "<Figure size 432x288 with 1 Axes>"
      ]
     },
     "metadata": {
      "needs_background": "light"
     },
     "output_type": "display_data"
    }
   ],
   "source": [
    "character_meta['actor_age_at_movie_release'].hist(bins=101, range=(0, 100))\n",
    "plt.xlabel('actor age at movie release')\n",
    "plt.ylabel('Number of characters')\n",
    "plt.title('Distribution of actor age at movie release')\n",
    "plt.show()\n",
    "character_meta['actor_height_m'].hist(bins=25, range=(1.2, 2.2))\n",
    "plt.xlabel('actor height (m)')\n",
    "plt.ylabel('Number of characters')\n",
    "plt.title('Distribution of actor height')\n",
    "plt.show()"
   ]
  },
  {
   "cell_type": "code",
   "execution_count": 376,
   "id": "369b07b0",
   "metadata": {},
   "outputs": [
    {
     "data": {
      "text/html": [
       "<div>\n",
       "<style scoped>\n",
       "    .dataframe tbody tr th:only-of-type {\n",
       "        vertical-align: middle;\n",
       "    }\n",
       "\n",
       "    .dataframe tbody tr th {\n",
       "        vertical-align: top;\n",
       "    }\n",
       "\n",
       "    .dataframe thead th {\n",
       "        text-align: right;\n",
       "    }\n",
       "</style>\n",
       "<table border=\"1\" class=\"dataframe\">\n",
       "  <thead>\n",
       "    <tr style=\"text-align: right;\">\n",
       "      <th></th>\n",
       "      <th>character_name</th>\n",
       "      <th>freebase_character/actor_map_id</th>\n",
       "    </tr>\n",
       "  </thead>\n",
       "  <tbody>\n",
       "    <tr>\n",
       "      <th>0</th>\n",
       "      <td>Stuart Little</td>\n",
       "      <td>/m/0k3w9c</td>\n",
       "    </tr>\n",
       "    <tr>\n",
       "      <th>1</th>\n",
       "      <td>Stuart Little</td>\n",
       "      <td>/m/0k3wcx</td>\n",
       "    </tr>\n",
       "    <tr>\n",
       "      <th>2</th>\n",
       "      <td>Stuart Little</td>\n",
       "      <td>/m/0k3wbn</td>\n",
       "    </tr>\n",
       "    <tr>\n",
       "      <th>3</th>\n",
       "      <td>John Doe</td>\n",
       "      <td>/m/0jyg35</td>\n",
       "    </tr>\n",
       "    <tr>\n",
       "      <th>4</th>\n",
       "      <td>John Doe</td>\n",
       "      <td>/m/0k2_zn</td>\n",
       "    </tr>\n",
       "  </tbody>\n",
       "</table>\n",
       "</div>"
      ],
      "text/plain": [
       "  character_name freebase_character/actor_map_id\n",
       "0  Stuart Little                       /m/0k3w9c\n",
       "1  Stuart Little                       /m/0k3wcx\n",
       "2  Stuart Little                       /m/0k3wbn\n",
       "3       John Doe                       /m/0jyg35\n",
       "4       John Doe                       /m/0k2_zn"
      ]
     },
     "execution_count": 376,
     "metadata": {},
     "output_type": "execute_result"
    }
   ],
   "source": [
    "name_clusters.head()"
   ]
  },
  {
   "cell_type": "code",
   "execution_count": 377,
   "id": "bc725c5a-b4fe-4116-9bf5-830a602ad4cd",
   "metadata": {},
   "outputs": [
    {
     "data": {
      "text/plain": [
       "character_name                      970\n",
       "freebase_character/actor_map_id    2661\n",
       "dtype: int64"
      ]
     },
     "execution_count": 377,
     "metadata": {},
     "output_type": "execute_result"
    }
   ],
   "source": [
    "name_clusters.nunique()"
   ]
  },
  {
   "cell_type": "markdown",
   "id": "96621fc7-6966-4c6c-959b-9a232c923714",
   "metadata": {},
   "source": [
    "#### TV Tropes\n",
    "\n",
    "The tv tropes file is extracted in a dataframe with the following attributes :\n",
    "\n",
    "`character_type`:  short description of the character type (str)    \n",
    "`freebase_character/actor_map_id`:  dictionnary containing character name, movie name, actor name and actor map id  (dict) "
   ]
  },
  {
   "cell_type": "code",
   "execution_count": 378,
   "id": "a4a7f996",
   "metadata": {},
   "outputs": [
    {
     "data": {
      "text/html": [
       "<div>\n",
       "<style scoped>\n",
       "    .dataframe tbody tr th:only-of-type {\n",
       "        vertical-align: middle;\n",
       "    }\n",
       "\n",
       "    .dataframe tbody tr th {\n",
       "        vertical-align: top;\n",
       "    }\n",
       "\n",
       "    .dataframe thead th {\n",
       "        text-align: right;\n",
       "    }\n",
       "</style>\n",
       "<table border=\"1\" class=\"dataframe\">\n",
       "  <thead>\n",
       "    <tr style=\"text-align: right;\">\n",
       "      <th></th>\n",
       "      <th>character_type</th>\n",
       "      <th>freebase_character/actor_map_id</th>\n",
       "    </tr>\n",
       "  </thead>\n",
       "  <tbody>\n",
       "    <tr>\n",
       "      <th>0</th>\n",
       "      <td>absent_minded_professor</td>\n",
       "      <td>{\"char\": \"Professor Philip Brainard\", \"movie\": \"Flubber\", \"id\": \"/m/0jy9q0\", \"actor\": \"Robin Williams\"}</td>\n",
       "    </tr>\n",
       "    <tr>\n",
       "      <th>1</th>\n",
       "      <td>absent_minded_professor</td>\n",
       "      <td>{\"char\": \"Professor Keenbean\", \"movie\": \"Richie Rich\", \"id\": \"/m/02vchl3\", \"actor\": \"Michael McShane\"}</td>\n",
       "    </tr>\n",
       "    <tr>\n",
       "      <th>2</th>\n",
       "      <td>absent_minded_professor</td>\n",
       "      <td>{\"char\": \"Dr. Reinhardt Lane\", \"movie\": \"The Shadow\", \"id\": \"/m/0k6fkc\", \"actor\": \"Ian McKellen\"}</td>\n",
       "    </tr>\n",
       "    <tr>\n",
       "      <th>3</th>\n",
       "      <td>absent_minded_professor</td>\n",
       "      <td>{\"char\": \"Dr. Harold Medford\", \"movie\": \"Them!\", \"id\": \"/m/0k6_br\", \"actor\": \"Edmund Gwenn\"}</td>\n",
       "    </tr>\n",
       "    <tr>\n",
       "      <th>4</th>\n",
       "      <td>absent_minded_professor</td>\n",
       "      <td>{\"char\": \"Daniel Jackson\", \"movie\": \"Stargate\", \"id\": \"/m/0k3rhh\", \"actor\": \"James Spader\"}</td>\n",
       "    </tr>\n",
       "  </tbody>\n",
       "</table>\n",
       "</div>"
      ],
      "text/plain": [
       "            character_type  \\\n",
       "0  absent_minded_professor   \n",
       "1  absent_minded_professor   \n",
       "2  absent_minded_professor   \n",
       "3  absent_minded_professor   \n",
       "4  absent_minded_professor   \n",
       "\n",
       "                                                                           freebase_character/actor_map_id  \n",
       "0  {\"char\": \"Professor Philip Brainard\", \"movie\": \"Flubber\", \"id\": \"/m/0jy9q0\", \"actor\": \"Robin Williams\"}  \n",
       "1   {\"char\": \"Professor Keenbean\", \"movie\": \"Richie Rich\", \"id\": \"/m/02vchl3\", \"actor\": \"Michael McShane\"}  \n",
       "2        {\"char\": \"Dr. Reinhardt Lane\", \"movie\": \"The Shadow\", \"id\": \"/m/0k6fkc\", \"actor\": \"Ian McKellen\"}  \n",
       "3             {\"char\": \"Dr. Harold Medford\", \"movie\": \"Them!\", \"id\": \"/m/0k6_br\", \"actor\": \"Edmund Gwenn\"}  \n",
       "4              {\"char\": \"Daniel Jackson\", \"movie\": \"Stargate\", \"id\": \"/m/0k3rhh\", \"actor\": \"James Spader\"}  "
      ]
     },
     "execution_count": 378,
     "metadata": {},
     "output_type": "execute_result"
    }
   ],
   "source": [
    "tv_tropes.head()"
   ]
  },
  {
   "cell_type": "code",
   "execution_count": 379,
   "id": "5b9fd771",
   "metadata": {},
   "outputs": [
    {
     "data": {
      "text/plain": [
       "character_type                      72\n",
       "freebase_character/actor_map_id    447\n",
       "dtype: int64"
      ]
     },
     "execution_count": 379,
     "metadata": {},
     "output_type": "execute_result"
    }
   ],
   "source": [
    "tv_tropes.nunique()"
   ]
  },
  {
   "cell_type": "markdown",
   "id": "7762dd84-2fe2-40df-98c5-26062ae07f63",
   "metadata": {},
   "source": [
    "As stated in the paper presenting the CMU datasets, there are 72 character/tv tropes types.  \n",
    "Our next task is to combine the last three datasets into a single dataframe that will contain character/actor information : we can make use of the 'id' attribute inside the 'freebase_character/actor_map_id' column to merge this dataframe with the character dataframe."
   ]
  },
  {
   "cell_type": "markdown",
   "id": "10d80740-913d-4cfc-bc85-e1b87393558a",
   "metadata": {},
   "source": [
    "Our ultimate goal is to create two dataframes : the first will be movie-centric that is indexed by the (wikipedia_id/freebase_id) and will contain cast information in the form of a list/dictionnary, the second will actor-centric that is indexed by the actor id (freebase_id) and will contain all the actor information, characters played and adjacent actors (ids of the actors they collaborated with)."
   ]
  },
  {
   "cell_type": "code",
   "execution_count": 380,
   "id": "b63e4b50-53c3-4bad-a1ce-49df7c381c95",
   "metadata": {
    "tags": []
   },
   "outputs": [
    {
     "data": {
      "text/html": [
       "<div>\n",
       "<style scoped>\n",
       "    .dataframe tbody tr th:only-of-type {\n",
       "        vertical-align: middle;\n",
       "    }\n",
       "\n",
       "    .dataframe tbody tr th {\n",
       "        vertical-align: top;\n",
       "    }\n",
       "\n",
       "    .dataframe thead th {\n",
       "        text-align: right;\n",
       "    }\n",
       "</style>\n",
       "<table border=\"1\" class=\"dataframe\">\n",
       "  <thead>\n",
       "    <tr style=\"text-align: right;\">\n",
       "      <th></th>\n",
       "      <th>character_name</th>\n",
       "      <th>freebase_character/actor_map_id</th>\n",
       "    </tr>\n",
       "  </thead>\n",
       "  <tbody>\n",
       "    <tr>\n",
       "      <th>0</th>\n",
       "      <td>Stuart Little</td>\n",
       "      <td>/m/0k3w9c</td>\n",
       "    </tr>\n",
       "    <tr>\n",
       "      <th>1</th>\n",
       "      <td>Stuart Little</td>\n",
       "      <td>/m/0k3wcx</td>\n",
       "    </tr>\n",
       "    <tr>\n",
       "      <th>2</th>\n",
       "      <td>Stuart Little</td>\n",
       "      <td>/m/0k3wbn</td>\n",
       "    </tr>\n",
       "    <tr>\n",
       "      <th>3</th>\n",
       "      <td>John Doe</td>\n",
       "      <td>/m/0jyg35</td>\n",
       "    </tr>\n",
       "    <tr>\n",
       "      <th>4</th>\n",
       "      <td>John Doe</td>\n",
       "      <td>/m/0k2_zn</td>\n",
       "    </tr>\n",
       "  </tbody>\n",
       "</table>\n",
       "</div>"
      ],
      "text/plain": [
       "  character_name freebase_character/actor_map_id\n",
       "0  Stuart Little                       /m/0k3w9c\n",
       "1  Stuart Little                       /m/0k3wcx\n",
       "2  Stuart Little                       /m/0k3wbn\n",
       "3       John Doe                       /m/0jyg35\n",
       "4       John Doe                       /m/0k2_zn"
      ]
     },
     "execution_count": 380,
     "metadata": {},
     "output_type": "execute_result"
    }
   ],
   "source": [
    "name_clusters.head()"
   ]
  },
  {
   "cell_type": "code",
   "execution_count": 381,
   "id": "5029b5e7-6a2a-4e79-af51-0e38707a7fb2",
   "metadata": {},
   "outputs": [
    {
     "data": {
      "text/html": [
       "<div>\n",
       "<style scoped>\n",
       "    .dataframe tbody tr th:only-of-type {\n",
       "        vertical-align: middle;\n",
       "    }\n",
       "\n",
       "    .dataframe tbody tr th {\n",
       "        vertical-align: top;\n",
       "    }\n",
       "\n",
       "    .dataframe thead th {\n",
       "        text-align: right;\n",
       "    }\n",
       "</style>\n",
       "<table border=\"1\" class=\"dataframe\">\n",
       "  <thead>\n",
       "    <tr style=\"text-align: right;\">\n",
       "      <th></th>\n",
       "      <th>wikipedia_movie_id</th>\n",
       "      <th>freebase_movie_id</th>\n",
       "      <th>movie_name</th>\n",
       "      <th>movie_release_date</th>\n",
       "      <th>movie_box_office_revenue</th>\n",
       "      <th>movie_runtime</th>\n",
       "      <th>movie_languages</th>\n",
       "      <th>movie_countries</th>\n",
       "      <th>movie_genres</th>\n",
       "      <th>movie_release_year</th>\n",
       "      <th>movie_languages_ids</th>\n",
       "      <th>movie_countries_ids</th>\n",
       "      <th>movie_genres_ids</th>\n",
       "    </tr>\n",
       "  </thead>\n",
       "  <tbody>\n",
       "    <tr>\n",
       "      <th>0</th>\n",
       "      <td>975900</td>\n",
       "      <td>/m/03vyhn</td>\n",
       "      <td>Ghosts of Mars</td>\n",
       "      <td>2001-08-24</td>\n",
       "      <td>14010832.0</td>\n",
       "      <td>98.0</td>\n",
       "      <td>{\"/m/02h40lc\": \"English Language\"}</td>\n",
       "      <td>{\"/m/09c7w0\": \"United States of America\"}</td>\n",
       "      <td>{\"/m/01jfsb\": \"Thriller\", \"/m/06n90\": \"Science Fiction\", \"/m/03npn\": \"Horror\", \"/m/03k9fj\": \"Adventure\", \"/m/0fdjb\": \"Supernatural\", \"/m/02kdv5l\": \"Action\", \"/m/09zvmj\": \"Space western\"}</td>\n",
       "      <td>2001.0</td>\n",
       "      <td>(English Language)</td>\n",
       "      <td>(United States of America)</td>\n",
       "      <td>(Thriller, Science Fiction, Horror, Adventure, Supernatural, Action, Space western)</td>\n",
       "    </tr>\n",
       "    <tr>\n",
       "      <th>1</th>\n",
       "      <td>3196793</td>\n",
       "      <td>/m/08yl5d</td>\n",
       "      <td>Getting Away with Murder: The JonBenét Ramsey Mystery</td>\n",
       "      <td>2000-02-16</td>\n",
       "      <td>NaN</td>\n",
       "      <td>95.0</td>\n",
       "      <td>{\"/m/02h40lc\": \"English Language\"}</td>\n",
       "      <td>{\"/m/09c7w0\": \"United States of America\"}</td>\n",
       "      <td>{\"/m/02n4kr\": \"Mystery\", \"/m/03bxz7\": \"Biographical film\", \"/m/07s9rl0\": \"Drama\", \"/m/0hj3n01\": \"Crime Drama\"}</td>\n",
       "      <td>2000.0</td>\n",
       "      <td>(English Language)</td>\n",
       "      <td>(United States of America)</td>\n",
       "      <td>(Mystery, Biographical film, Drama, Crime Drama)</td>\n",
       "    </tr>\n",
       "    <tr>\n",
       "      <th>2</th>\n",
       "      <td>28463795</td>\n",
       "      <td>/m/0crgdbh</td>\n",
       "      <td>Brun bitter</td>\n",
       "      <td>1988-01-01</td>\n",
       "      <td>NaN</td>\n",
       "      <td>83.0</td>\n",
       "      <td>{\"/m/05f_3\": \"Norwegian Language\"}</td>\n",
       "      <td>{\"/m/05b4w\": \"Norway\"}</td>\n",
       "      <td>{\"/m/0lsxr\": \"Crime Fiction\", \"/m/07s9rl0\": \"Drama\"}</td>\n",
       "      <td>1988.0</td>\n",
       "      <td>(Norwegian Language)</td>\n",
       "      <td>(Norway)</td>\n",
       "      <td>(Crime Fiction, Drama)</td>\n",
       "    </tr>\n",
       "    <tr>\n",
       "      <th>3</th>\n",
       "      <td>9363483</td>\n",
       "      <td>/m/0285_cd</td>\n",
       "      <td>White Of The Eye</td>\n",
       "      <td>1987-01-01</td>\n",
       "      <td>NaN</td>\n",
       "      <td>110.0</td>\n",
       "      <td>{\"/m/02h40lc\": \"English Language\"}</td>\n",
       "      <td>{\"/m/07ssc\": \"United Kingdom\"}</td>\n",
       "      <td>{\"/m/01jfsb\": \"Thriller\", \"/m/0glj9q\": \"Erotic thriller\", \"/m/09blyk\": \"Psychological thriller\"}</td>\n",
       "      <td>1987.0</td>\n",
       "      <td>(English Language)</td>\n",
       "      <td>(United Kingdom)</td>\n",
       "      <td>(Thriller, Erotic thriller, Psychological thriller)</td>\n",
       "    </tr>\n",
       "    <tr>\n",
       "      <th>4</th>\n",
       "      <td>261236</td>\n",
       "      <td>/m/01mrr1</td>\n",
       "      <td>A Woman in Flames</td>\n",
       "      <td>1983-01-01</td>\n",
       "      <td>NaN</td>\n",
       "      <td>106.0</td>\n",
       "      <td>{\"/m/04306rv\": \"German Language\"}</td>\n",
       "      <td>{\"/m/0345h\": \"Germany\"}</td>\n",
       "      <td>{\"/m/07s9rl0\": \"Drama\"}</td>\n",
       "      <td>1983.0</td>\n",
       "      <td>(German Language)</td>\n",
       "      <td>(Germany)</td>\n",
       "      <td>(Drama)</td>\n",
       "    </tr>\n",
       "  </tbody>\n",
       "</table>\n",
       "</div>"
      ],
      "text/plain": [
       "   wikipedia_movie_id freebase_movie_id  \\\n",
       "0              975900         /m/03vyhn   \n",
       "1             3196793         /m/08yl5d   \n",
       "2            28463795        /m/0crgdbh   \n",
       "3             9363483        /m/0285_cd   \n",
       "4              261236         /m/01mrr1   \n",
       "\n",
       "                                              movie_name movie_release_date  \\\n",
       "0                                         Ghosts of Mars         2001-08-24   \n",
       "1  Getting Away with Murder: The JonBenét Ramsey Mystery         2000-02-16   \n",
       "2                                            Brun bitter         1988-01-01   \n",
       "3                                       White Of The Eye         1987-01-01   \n",
       "4                                      A Woman in Flames         1983-01-01   \n",
       "\n",
       "   movie_box_office_revenue  movie_runtime  \\\n",
       "0                14010832.0           98.0   \n",
       "1                       NaN           95.0   \n",
       "2                       NaN           83.0   \n",
       "3                       NaN          110.0   \n",
       "4                       NaN          106.0   \n",
       "\n",
       "                      movie_languages  \\\n",
       "0  {\"/m/02h40lc\": \"English Language\"}   \n",
       "1  {\"/m/02h40lc\": \"English Language\"}   \n",
       "2  {\"/m/05f_3\": \"Norwegian Language\"}   \n",
       "3  {\"/m/02h40lc\": \"English Language\"}   \n",
       "4   {\"/m/04306rv\": \"German Language\"}   \n",
       "\n",
       "                             movie_countries  \\\n",
       "0  {\"/m/09c7w0\": \"United States of America\"}   \n",
       "1  {\"/m/09c7w0\": \"United States of America\"}   \n",
       "2                     {\"/m/05b4w\": \"Norway\"}   \n",
       "3             {\"/m/07ssc\": \"United Kingdom\"}   \n",
       "4                    {\"/m/0345h\": \"Germany\"}   \n",
       "\n",
       "                                                                                                                                                                                 movie_genres  \\\n",
       "0  {\"/m/01jfsb\": \"Thriller\", \"/m/06n90\": \"Science Fiction\", \"/m/03npn\": \"Horror\", \"/m/03k9fj\": \"Adventure\", \"/m/0fdjb\": \"Supernatural\", \"/m/02kdv5l\": \"Action\", \"/m/09zvmj\": \"Space western\"}   \n",
       "1                                                                              {\"/m/02n4kr\": \"Mystery\", \"/m/03bxz7\": \"Biographical film\", \"/m/07s9rl0\": \"Drama\", \"/m/0hj3n01\": \"Crime Drama\"}   \n",
       "2                                                                                                                                        {\"/m/0lsxr\": \"Crime Fiction\", \"/m/07s9rl0\": \"Drama\"}   \n",
       "3                                                                                            {\"/m/01jfsb\": \"Thriller\", \"/m/0glj9q\": \"Erotic thriller\", \"/m/09blyk\": \"Psychological thriller\"}   \n",
       "4                                                                                                                                                                     {\"/m/07s9rl0\": \"Drama\"}   \n",
       "\n",
       "   movie_release_year   movie_languages_ids         movie_countries_ids  \\\n",
       "0              2001.0    (English Language)  (United States of America)   \n",
       "1              2000.0    (English Language)  (United States of America)   \n",
       "2              1988.0  (Norwegian Language)                    (Norway)   \n",
       "3              1987.0    (English Language)            (United Kingdom)   \n",
       "4              1983.0     (German Language)                   (Germany)   \n",
       "\n",
       "                                                                      movie_genres_ids  \n",
       "0  (Thriller, Science Fiction, Horror, Adventure, Supernatural, Action, Space western)  \n",
       "1                                     (Mystery, Biographical film, Drama, Crime Drama)  \n",
       "2                                                               (Crime Fiction, Drama)  \n",
       "3                                  (Thriller, Erotic thriller, Psychological thriller)  \n",
       "4                                                                              (Drama)  "
      ]
     },
     "execution_count": 381,
     "metadata": {},
     "output_type": "execute_result"
    }
   ],
   "source": [
    "movie_meta.head()"
   ]
  },
  {
   "cell_type": "code",
   "execution_count": 382,
   "id": "6f467f0c-665b-46b8-b633-673a2eae2f7d",
   "metadata": {},
   "outputs": [
    {
     "data": {
      "text/html": [
       "<div>\n",
       "<style scoped>\n",
       "    .dataframe tbody tr th:only-of-type {\n",
       "        vertical-align: middle;\n",
       "    }\n",
       "\n",
       "    .dataframe tbody tr th {\n",
       "        vertical-align: top;\n",
       "    }\n",
       "\n",
       "    .dataframe thead th {\n",
       "        text-align: right;\n",
       "    }\n",
       "</style>\n",
       "<table border=\"1\" class=\"dataframe\">\n",
       "  <thead>\n",
       "    <tr style=\"text-align: right;\">\n",
       "      <th></th>\n",
       "      <th>wikipedia_movie_id</th>\n",
       "      <th>freebase_movie_id</th>\n",
       "      <th>movie_release_date</th>\n",
       "      <th>character_name</th>\n",
       "      <th>actor_date_of_birth</th>\n",
       "      <th>actor_gender</th>\n",
       "      <th>actor_height_m</th>\n",
       "      <th>actor_ethnicity_id</th>\n",
       "      <th>actor_name</th>\n",
       "      <th>actor_age_at_movie_release</th>\n",
       "      <th>freebase_character/actor_map_id</th>\n",
       "      <th>freebase_character_id</th>\n",
       "      <th>freebase_actor_id</th>\n",
       "    </tr>\n",
       "  </thead>\n",
       "  <tbody>\n",
       "    <tr>\n",
       "      <th>0</th>\n",
       "      <td>975900</td>\n",
       "      <td>/m/03vyhn</td>\n",
       "      <td>2001-08-24</td>\n",
       "      <td>Akooshay</td>\n",
       "      <td>1958-08-26</td>\n",
       "      <td>F</td>\n",
       "      <td>1.620</td>\n",
       "      <td>NaN</td>\n",
       "      <td>Wanda De Jesus</td>\n",
       "      <td>42.0</td>\n",
       "      <td>/m/0bgchxw</td>\n",
       "      <td>/m/0bgcj3x</td>\n",
       "      <td>/m/03wcfv7</td>\n",
       "    </tr>\n",
       "    <tr>\n",
       "      <th>1</th>\n",
       "      <td>975900</td>\n",
       "      <td>/m/03vyhn</td>\n",
       "      <td>2001-08-24</td>\n",
       "      <td>Lieutenant Melanie Ballard</td>\n",
       "      <td>1974-08-15</td>\n",
       "      <td>F</td>\n",
       "      <td>1.780</td>\n",
       "      <td>/m/044038p</td>\n",
       "      <td>Natasha Henstridge</td>\n",
       "      <td>27.0</td>\n",
       "      <td>/m/0jys3m</td>\n",
       "      <td>/m/0bgchn4</td>\n",
       "      <td>/m/0346l4</td>\n",
       "    </tr>\n",
       "    <tr>\n",
       "      <th>2</th>\n",
       "      <td>975900</td>\n",
       "      <td>/m/03vyhn</td>\n",
       "      <td>2001-08-24</td>\n",
       "      <td>Desolation Williams</td>\n",
       "      <td>1969-06-15</td>\n",
       "      <td>M</td>\n",
       "      <td>1.727</td>\n",
       "      <td>/m/0x67</td>\n",
       "      <td>Ice Cube</td>\n",
       "      <td>32.0</td>\n",
       "      <td>/m/0jys3g</td>\n",
       "      <td>/m/0bgchn_</td>\n",
       "      <td>/m/01vw26l</td>\n",
       "    </tr>\n",
       "    <tr>\n",
       "      <th>3</th>\n",
       "      <td>975900</td>\n",
       "      <td>/m/03vyhn</td>\n",
       "      <td>2001-08-24</td>\n",
       "      <td>Sgt Jericho Butler</td>\n",
       "      <td>1967-09-12</td>\n",
       "      <td>M</td>\n",
       "      <td>1.750</td>\n",
       "      <td>NaN</td>\n",
       "      <td>Jason Statham</td>\n",
       "      <td>33.0</td>\n",
       "      <td>/m/02vchl6</td>\n",
       "      <td>/m/0bgchnq</td>\n",
       "      <td>/m/034hyc</td>\n",
       "    </tr>\n",
       "    <tr>\n",
       "      <th>4</th>\n",
       "      <td>975900</td>\n",
       "      <td>/m/03vyhn</td>\n",
       "      <td>2001-08-24</td>\n",
       "      <td>Bashira Kincaid</td>\n",
       "      <td>1977-09-25</td>\n",
       "      <td>F</td>\n",
       "      <td>1.650</td>\n",
       "      <td>NaN</td>\n",
       "      <td>Clea DuVall</td>\n",
       "      <td>23.0</td>\n",
       "      <td>/m/02vbb3r</td>\n",
       "      <td>/m/0bgchp9</td>\n",
       "      <td>/m/01y9xg</td>\n",
       "    </tr>\n",
       "  </tbody>\n",
       "</table>\n",
       "</div>"
      ],
      "text/plain": [
       "   wikipedia_movie_id freebase_movie_id movie_release_date  \\\n",
       "0              975900         /m/03vyhn         2001-08-24   \n",
       "1              975900         /m/03vyhn         2001-08-24   \n",
       "2              975900         /m/03vyhn         2001-08-24   \n",
       "3              975900         /m/03vyhn         2001-08-24   \n",
       "4              975900         /m/03vyhn         2001-08-24   \n",
       "\n",
       "               character_name actor_date_of_birth actor_gender  \\\n",
       "0                    Akooshay          1958-08-26            F   \n",
       "1  Lieutenant Melanie Ballard          1974-08-15            F   \n",
       "2         Desolation Williams          1969-06-15            M   \n",
       "3          Sgt Jericho Butler          1967-09-12            M   \n",
       "4             Bashira Kincaid          1977-09-25            F   \n",
       "\n",
       "   actor_height_m actor_ethnicity_id          actor_name  \\\n",
       "0           1.620                NaN      Wanda De Jesus   \n",
       "1           1.780         /m/044038p  Natasha Henstridge   \n",
       "2           1.727            /m/0x67            Ice Cube   \n",
       "3           1.750                NaN       Jason Statham   \n",
       "4           1.650                NaN         Clea DuVall   \n",
       "\n",
       "   actor_age_at_movie_release freebase_character/actor_map_id  \\\n",
       "0                        42.0                      /m/0bgchxw   \n",
       "1                        27.0                       /m/0jys3m   \n",
       "2                        32.0                       /m/0jys3g   \n",
       "3                        33.0                      /m/02vchl6   \n",
       "4                        23.0                      /m/02vbb3r   \n",
       "\n",
       "  freebase_character_id freebase_actor_id  \n",
       "0            /m/0bgcj3x        /m/03wcfv7  \n",
       "1            /m/0bgchn4         /m/0346l4  \n",
       "2            /m/0bgchn_        /m/01vw26l  \n",
       "3            /m/0bgchnq         /m/034hyc  \n",
       "4            /m/0bgchp9         /m/01y9xg  "
      ]
     },
     "execution_count": 382,
     "metadata": {},
     "output_type": "execute_result"
    }
   ],
   "source": [
    "character_meta.head()"
   ]
  },
  {
   "cell_type": "code",
   "execution_count": 428,
   "id": "2b4adbdb-0766-492f-9d16-ea3c74c19bfd",
   "metadata": {},
   "outputs": [],
   "source": [
    "import matplotlib.pyplot as plt"
   ]
  },
  {
   "cell_type": "code",
   "execution_count": 430,
   "id": "fc06fa85-cdba-44cb-9041-a7d1e8c5cb0f",
   "metadata": {},
   "outputs": [
    {
     "name": "stdout",
     "output_type": "stream",
     "text": [
      "Local cdn resources have problems on chrome/safari when used in jupyter-notebook. \n"
     ]
    }
   ],
   "source": [
    "from pyvis.network import Network\n",
    "net = Network(notebook=True)"
   ]
  },
  {
   "cell_type": "code",
   "execution_count": 383,
   "id": "01138928-fd74-4e59-93a9-3524fe55d015",
   "metadata": {},
   "outputs": [],
   "source": [
    "# First, we want to make a list of actor entries, where for each actor entry we have a list of the movies they played in."
   ]
  },
  {
   "cell_type": "code",
   "execution_count": 386,
   "id": "3967ffea-5d79-456e-a1f8-cbdda918e399",
   "metadata": {
    "tags": []
   },
   "outputs": [],
   "source": [
    "# We keep only the informations that we care about\n",
    "actor_to_movies = character_meta[['freebase_actor_id','freebase_movie_id']]"
   ]
  },
  {
   "cell_type": "code",
   "execution_count": 396,
   "id": "f3b67588-dbe0-43d5-88a4-9224e5ed593d",
   "metadata": {},
   "outputs": [],
   "source": [
    "actor_to_movies = entre.groupby('freebase_actor_id').apply(lambda x: list(x['freebase_movie_id']))"
   ]
  },
  {
   "cell_type": "code",
   "execution_count": 407,
   "id": "0ea51e91-17b3-43d9-9781-66e02963dfab",
   "metadata": {},
   "outputs": [],
   "source": [
    "# We make it into a dictionary for convenience\n",
    "actor_to_movies = dict(actor_to_movies)"
   ]
  },
  {
   "cell_type": "code",
   "execution_count": 408,
   "id": "eef86e23-d85d-4049-afc3-32698db6aca1",
   "metadata": {},
   "outputs": [],
   "source": [
    "movie_to_actors = character_meta[['freebase_actor_id','freebase_movie_id']].groupby('freebase_movie_id').apply(lambda x: list(x['freebase_actor_id']))"
   ]
  },
  {
   "cell_type": "code",
   "execution_count": 411,
   "id": "63557cd8-9bb4-47c4-9f7c-665f6792cbe2",
   "metadata": {},
   "outputs": [],
   "source": [
    "# We do something similar for movies\n",
    "movie_to_actors = dict(entre3)"
   ]
  },
  {
   "cell_type": "code",
   "execution_count": 414,
   "id": "0cc10518-b382-4c14-b792-138a1543ec39",
   "metadata": {},
   "outputs": [],
   "source": [
    "import networkx as nx"
   ]
  },
  {
   "cell_type": "code",
   "execution_count": 415,
   "id": "51a07d86-79ce-466c-be8f-abb61f2b10ab",
   "metadata": {},
   "outputs": [],
   "source": [
    "G = nx.graph.Graph()"
   ]
  },
  {
   "cell_type": "code",
   "execution_count": 418,
   "id": "b3acfa25-551e-4ab6-b3b1-f0d6b6d00b04",
   "metadata": {},
   "outputs": [],
   "source": [
    "# We make the first actor-to-actor graph.\n",
    "# We construct the graph with actor nodes\n",
    "for key in actor_to_movies.keys():\n",
    "    G.add_node(key)"
   ]
  },
  {
   "cell_type": "code",
   "execution_count": 425,
   "id": "edc9bea0-551c-4c89-84ec-b73a5fa2493f",
   "metadata": {},
   "outputs": [],
   "source": [
    "# For each actor, we get the movies he played in\n",
    "for key in actor_to_movies.keys():\n",
    "    set_of_movies = set(actor_to_movies[key])\n",
    "    list_of_actors = []\n",
    "    # For each movies, we get the list of actors that played in them\n",
    "    for movie in set_of_movies:\n",
    "        actors_for_one_movie = set(movie_to_actors[movie]) \n",
    "        list_of_actors += list(actors_for_one_movie)\n",
    "    # We get a final list of all the actors an actor has co-starred with \n",
    "    # and remove the original actor so that we have no self-edge\n",
    "    final_list_of_actors = set(list_of_actors) - set(key)\n",
    "    # We transform the list of actors into a list of tuples of the shape (actor, actor) ( which will be the edges the networkx graph will add )\n",
    "    final_list_of_actors = map(lambda x: (key, x), final_list_of_actors)\n",
    "    # We add thes edges ( connections ) to the graph\n",
    "    G.add_edges_from(final_list_of_actors)"
   ]
  },
  {
   "cell_type": "code",
   "execution_count": 426,
   "id": "26e1eb35-4f36-4c0c-a379-fd02c0718f81",
   "metadata": {},
   "outputs": [
    {
     "data": {
      "text/plain": [
       "2219888"
      ]
     },
     "execution_count": 426,
     "metadata": {},
     "output_type": "execute_result"
    }
   ],
   "source": [
    "G.size()"
   ]
  },
  {
   "cell_type": "markdown",
   "id": "42001b62-e289-4901-bde0-3612d46be41d",
   "metadata": {},
   "source": [
    "We have around 2,219,888 connections."
   ]
  },
  {
   "cell_type": "code",
   "execution_count": 490,
   "id": "95ae53c4-9056-437f-b1f2-2c3cb68d6e7a",
   "metadata": {},
   "outputs": [
    {
     "data": {
      "text/plain": [
       "Text(0.5, 1.0, \"Distribution of node's degrees\")"
      ]
     },
     "execution_count": 490,
     "metadata": {},
     "output_type": "execute_result"
    },
    {
     "data": {
      "image/png": "[encoded data removed]",
      "text/plain": [
       "<Figure size 792x792 with 1 Axes>"
      ]
     },
     "metadata": {},
     "output_type": "display_data"
    }
   ],
   "source": [
    "# We plot the distribution of the node's degrees.\n",
    "plt.figure(figsize=(11,11))\n",
    "plt.hist(nx.degree_histogram(G), log=False, bins=100, facecolor = '#2ab0ff', edgecolor='#169acf', linewidth=0.5)\n",
    "plt.xlabel(\"Node degree\")\n",
    "plt.ylabel(\"Number of occurences\")\n",
    "plt.title(\"Distribution of node's degrees\")"
   ]
  },
  {
   "cell_type": "code",
   "execution_count": 491,
   "id": "2f29172a-0d3d-4ab2-8623-e773fd85c148",
   "metadata": {},
   "outputs": [
    {
     "data": {
      "text/plain": [
       "Text(0.5, 1.0, \"Distribution of node's degrees\")"
      ]
     },
     "execution_count": 491,
     "metadata": {},
     "output_type": "execute_result"
    },
    {
     "data": {
      "image/png": "[encoded data removed]",
      "text/plain": [
       "<Figure size 792x792 with 1 Axes>"
      ]
     },
     "metadata": {},
     "output_type": "display_data"
    }
   ],
   "source": [
    "# We notice it looks like a heavy-tailed distribution so we apply a log-transform.\n",
    "plt.figure(figsize=(11,11))\n",
    "plt.hist(nx.degree_histogram(G), log=True, bins=100, facecolor = '#2ab0ff', edgecolor='#169acf', linewidth=0.5)\n",
    "plt.xlabel(\"Node degree\")\n",
    "plt.ylabel(\"Number of occurences\")\n",
    "plt.title(\"Distribution of node's degrees\")"
   ]
  },
  {
   "cell_type": "code",
   "execution_count": 466,
   "id": "fbf29a3a-529e-4619-905e-6f4e1a4dd9d7",
   "metadata": {},
   "outputs": [],
   "source": [
    "# We remove self-loop edges\n",
    "G.remove_edges_from(nx.selfloop_edges(G))"
   ]
  },
  {
   "cell_type": "code",
   "execution_count": 494,
   "id": "56b95e16-5e14-480f-b6e0-9e47219d9132",
   "metadata": {},
   "outputs": [
    {
     "data": {
      "text/plain": [
       "135761"
      ]
     },
     "execution_count": 494,
     "metadata": {},
     "output_type": "execute_result"
    }
   ],
   "source": [
    "len(G.nodes())"
   ]
  },
  {
   "cell_type": "code",
   "execution_count": 495,
   "id": "fdfe74e9-f04d-47a8-bb51-c925483e2461",
   "metadata": {},
   "outputs": [
    {
     "data": {
      "text/plain": [
       "2084128"
      ]
     },
     "execution_count": 495,
     "metadata": {},
     "output_type": "execute_result"
    }
   ],
   "source": [
    "G.size()"
   ]
  },
  {
   "cell_type": "markdown",
   "id": "dc4eab82-7f83-4ca0-81c7-b42443ac1f61",
   "metadata": {},
   "source": [
    "The graph we constructed has 135761 nodes and over 2,000,000 edges. We try to reduce the graph."
   ]
  },
  {
   "cell_type": "markdown",
   "id": "0ad2cc1c-c338-465d-9eff-9cd50d8b5ce8",
   "metadata": {},
   "source": [
    "K-cores play an important role in revealing the higher-order organization of networks. So we apply this algorithm to obtain a graph that has a smaller number of nodes and edges."
   ]
  },
  {
   "cell_type": "code",
   "execution_count": 467,
   "id": "c85f801f-2d1d-4c10-8640-838977477275",
   "metadata": {},
   "outputs": [],
   "source": [
    "G60 = nx.k_core(G, 60)"
   ]
  },
  {
   "cell_type": "code",
   "execution_count": 496,
   "id": "d6e49820-fffb-49d6-826f-022cfcb0ac26",
   "metadata": {},
   "outputs": [
    {
     "data": {
      "text/plain": [
       "6490"
      ]
     },
     "execution_count": 496,
     "metadata": {},
     "output_type": "execute_result"
    }
   ],
   "source": [
    "len(G60.nodes())"
   ]
  },
  {
   "cell_type": "code",
   "execution_count": 468,
   "id": "fccf536e-52dd-4d3a-94db-815d4b59c005",
   "metadata": {},
   "outputs": [
    {
     "data": {
      "text/plain": [
       "422749"
      ]
     },
     "execution_count": 468,
     "metadata": {},
     "output_type": "execute_result"
    }
   ],
   "source": [
    "G60.size()"
   ]
  },
  {
   "cell_type": "code",
   "execution_count": 471,
   "id": "a9b439a1-2ca4-4131-b9aa-6097e69e8db2",
   "metadata": {},
   "outputs": [
    {
     "data": {
      "text/plain": [
       "(array([1.216e+03, 6.200e+01, 4.600e+01, 1.300e+01, 1.900e+01, 1.900e+01,\n",
       "        9.000e+00, 1.100e+01, 1.600e+01, 5.000e+00, 4.000e+00, 7.000e+00,\n",
       "        5.000e+00, 7.000e+00, 3.000e+00, 3.000e+00, 4.000e+00, 2.000e+00,\n",
       "        5.000e+00, 0.000e+00, 1.000e+00, 3.000e+00, 5.000e+00, 2.000e+00,\n",
       "        2.000e+00, 1.000e+00, 2.000e+00, 0.000e+00, 2.000e+00, 0.000e+00,\n",
       "        0.000e+00, 0.000e+00, 2.000e+00, 0.000e+00, 0.000e+00, 3.000e+00,\n",
       "        2.000e+00, 0.000e+00, 1.000e+00, 0.000e+00, 0.000e+00, 0.000e+00,\n",
       "        1.000e+00, 0.000e+00, 1.000e+00, 0.000e+00, 2.000e+00, 1.000e+00,\n",
       "        0.000e+00, 1.000e+00, 0.000e+00, 0.000e+00, 2.000e+00, 0.000e+00,\n",
       "        1.000e+00, 0.000e+00, 0.000e+00, 1.000e+00, 0.000e+00, 0.000e+00,\n",
       "        0.000e+00, 0.000e+00, 1.000e+00, 0.000e+00, 0.000e+00, 0.000e+00,\n",
       "        0.000e+00, 0.000e+00, 0.000e+00, 0.000e+00, 0.000e+00, 0.000e+00,\n",
       "        0.000e+00, 0.000e+00, 0.000e+00, 0.000e+00, 0.000e+00, 0.000e+00,\n",
       "        0.000e+00, 0.000e+00, 0.000e+00, 0.000e+00, 0.000e+00, 0.000e+00,\n",
       "        0.000e+00, 0.000e+00, 0.000e+00, 0.000e+00, 0.000e+00, 0.000e+00,\n",
       "        0.000e+00, 0.000e+00, 0.000e+00, 0.000e+00, 0.000e+00, 0.000e+00,\n",
       "        0.000e+00, 0.000e+00, 0.000e+00, 1.000e+00]),\n",
       " array([  0.  ,   2.34,   4.68,   7.02,   9.36,  11.7 ,  14.04,  16.38,\n",
       "         18.72,  21.06,  23.4 ,  25.74,  28.08,  30.42,  32.76,  35.1 ,\n",
       "         37.44,  39.78,  42.12,  44.46,  46.8 ,  49.14,  51.48,  53.82,\n",
       "         56.16,  58.5 ,  60.84,  63.18,  65.52,  67.86,  70.2 ,  72.54,\n",
       "         74.88,  77.22,  79.56,  81.9 ,  84.24,  86.58,  88.92,  91.26,\n",
       "         93.6 ,  95.94,  98.28, 100.62, 102.96, 105.3 , 107.64, 109.98,\n",
       "        112.32, 114.66, 117.  , 119.34, 121.68, 124.02, 126.36, 128.7 ,\n",
       "        131.04, 133.38, 135.72, 138.06, 140.4 , 142.74, 145.08, 147.42,\n",
       "        149.76, 152.1 , 154.44, 156.78, 159.12, 161.46, 163.8 , 166.14,\n",
       "        168.48, 170.82, 173.16, 175.5 , 177.84, 180.18, 182.52, 184.86,\n",
       "        187.2 , 189.54, 191.88, 194.22, 196.56, 198.9 , 201.24, 203.58,\n",
       "        205.92, 208.26, 210.6 , 212.94, 215.28, 217.62, 219.96, 222.3 ,\n",
       "        224.64, 226.98, 229.32, 231.66, 234.  ]),\n",
       " <BarContainer object of 100 artists>)"
      ]
     },
     "execution_count": 471,
     "metadata": {},
     "output_type": "execute_result"
    },
    {
     "data": {
      "image/png": "[encoded data removed]",
      "text/plain": [
       "<Figure size 432x288 with 1 Axes>"
      ]
     },
     "metadata": {},
     "output_type": "display_data"
    }
   ],
   "source": [
    "plt.hist(nx.degree_histogram(G60), log=True, bins=100, facecolor = '#2ab0ff', edgecolor='#169acf', linewidth=0.5)"
   ]
  },
  {
   "cell_type": "markdown",
   "id": "937ec638-9b1e-436d-b2b7-7b1a9b7e5e4f",
   "metadata": {},
   "source": [
    "We notice that we have a small group of very very connected nodes at the extreme right."
   ]
  },
  {
   "cell_type": "code",
   "execution_count": 492,
   "id": "ee98fb72-5595-4566-aece-8198a96d6826",
   "metadata": {},
   "outputs": [],
   "source": [
    "G100 = nx.k_core(G, 100)"
   ]
  },
  {
   "cell_type": "code",
   "execution_count": 502,
   "id": "bacd8420-4497-473e-b8c5-fe37bba12a5a",
   "metadata": {},
   "outputs": [
    {
     "data": {
      "image/png": "[encoded data removed]",
      "text/plain": [
       "<Figure size 432x288 with 1 Axes>"
      ]
     },
     "metadata": {},
     "output_type": "display_data"
    }
   ],
   "source": [
    "nx.draw(G100)"
   ]
  },
  {
   "cell_type": "markdown",
   "id": "46f6e7f3-689e-4cfb-9417-fe9c59cda9cf",
   "metadata": {},
   "source": [
    "Graph is still unreadable."
   ]
  },
  {
   "cell_type": "code",
   "execution_count": 478,
   "id": "065703dc-ad9a-4d2b-8e45-2e0278068a7b",
   "metadata": {},
   "outputs": [
    {
     "data": {
      "text/plain": [
       "(array([114.,   0.,   0.,   0.,   0.,   0.,   0.,   0.,   0.,   0.,   0.,\n",
       "          0.,   0.,   0.,   0.,   0.,   0.,   0.,   0.,   0.,   0.,   0.,\n",
       "          0.,   0.,   0.,   0.,   0.,   0.,   0.,   0.,   0.,   0.,   0.,\n",
       "          0.,   0.,   0.,   0.,   0.,   0.,   0.,   0.,   0.,   0.,   0.,\n",
       "          0.,   0.,   0.,   0.,   0.,   0.,   0.,   0.,   0.,   0.,   0.,\n",
       "          0.,   0.,   0.,   0.,   0.,   0.,   0.,   0.,   0.,   0.,   0.,\n",
       "          0.,   0.,   0.,   0.,   0.,   0.,   0.,   0.,   0.,   0.,   0.,\n",
       "          0.,   0.,   0.,   0.,   0.,   0.,   0.,   0.,   0.,   0.,   0.,\n",
       "          0.,   0.,   0.,   0.,   0.,   0.,   0.,   0.,   0.,   0.,   0.,\n",
       "          1.]),\n",
       " array([  0.  ,   1.15,   2.3 ,   3.45,   4.6 ,   5.75,   6.9 ,   8.05,\n",
       "          9.2 ,  10.35,  11.5 ,  12.65,  13.8 ,  14.95,  16.1 ,  17.25,\n",
       "         18.4 ,  19.55,  20.7 ,  21.85,  23.  ,  24.15,  25.3 ,  26.45,\n",
       "         27.6 ,  28.75,  29.9 ,  31.05,  32.2 ,  33.35,  34.5 ,  35.65,\n",
       "         36.8 ,  37.95,  39.1 ,  40.25,  41.4 ,  42.55,  43.7 ,  44.85,\n",
       "         46.  ,  47.15,  48.3 ,  49.45,  50.6 ,  51.75,  52.9 ,  54.05,\n",
       "         55.2 ,  56.35,  57.5 ,  58.65,  59.8 ,  60.95,  62.1 ,  63.25,\n",
       "         64.4 ,  65.55,  66.7 ,  67.85,  69.  ,  70.15,  71.3 ,  72.45,\n",
       "         73.6 ,  74.75,  75.9 ,  77.05,  78.2 ,  79.35,  80.5 ,  81.65,\n",
       "         82.8 ,  83.95,  85.1 ,  86.25,  87.4 ,  88.55,  89.7 ,  90.85,\n",
       "         92.  ,  93.15,  94.3 ,  95.45,  96.6 ,  97.75,  98.9 , 100.05,\n",
       "        101.2 , 102.35, 103.5 , 104.65, 105.8 , 106.95, 108.1 , 109.25,\n",
       "        110.4 , 111.55, 112.7 , 113.85, 115.  ]),\n",
       " <BarContainer object of 100 artists>)"
      ]
     },
     "execution_count": 478,
     "metadata": {},
     "output_type": "execute_result"
    },
    {
     "data": {
      "image/png": "[encoded data removed]",
      "text/plain": [
       "<Figure size 432x288 with 1 Axes>"
      ]
     },
     "metadata": {},
     "output_type": "display_data"
    }
   ],
   "source": [
    "plt.hist(nx.degree_histogram(G100), log=True, bins=100, facecolor = '#2ab0ff', edgecolor='#169acf', linewidth=0.5)"
   ]
  },
  {
   "cell_type": "markdown",
   "id": "97303bc1-076c-4d6b-991a-a0ed6f00f699",
   "metadata": {},
   "source": [
    "We do the same and make a movie-to-movie graph."
   ]
  },
  {
   "cell_type": "code",
   "execution_count": 503,
   "id": "bf40815a-3e38-4065-8142-718169a985aa",
   "metadata": {},
   "outputs": [],
   "source": [
    "G2 = nx.graph.Graph()"
   ]
  },
  {
   "cell_type": "code",
   "execution_count": 508,
   "id": "9c77cfd9-a32c-47c4-9887-e0af6441b6de",
   "metadata": {},
   "outputs": [],
   "source": [
    "# We make the movie-to-movie graph.\n",
    "# We construct the graph with movie nodes\n",
    "for key in movie_to_actors.keys():\n",
    "    G2.add_node(key)"
   ]
  },
  {
   "cell_type": "code",
   "execution_count": 512,
   "id": "0f1717ee-e909-40be-a771-3f5c0ad0ec4d",
   "metadata": {},
   "outputs": [],
   "source": [
    "# For each movie, we get the actors that starred in it\n",
    "for key in movie_to_actors.keys():\n",
    "    set_of_actors = set(movie_to_actors[key])\n",
    "    list_of_movies = []\n",
    "    # For each movies, we get the list of actors that played in them\n",
    "    for actor in set_of_actors:\n",
    "        movies_for_one_actor = set(actor_to_movies.get(actor, {})) \n",
    "        list_of_movies += list(movies_for_one_actor)\n",
    "    # We get a final list of all the movies a movie shares actors with\n",
    "    # and remove the original movie so that we have no self-edge\n",
    "    final_list_of_movies = set(list_of_movies) - set(key)\n",
    "    # We transform the list of actors into a list of tuples of the shape (actor, actor) ( which will be the edges the networkx graph will add )\n",
    "    final_list_of_movies = map(lambda x: (key, x), final_list_of_movies)\n",
    "    # We add thes edges ( connections ) to the graph\n",
    "    G2.add_edges_from(final_list_of_movies)"
   ]
  },
  {
   "cell_type": "code",
   "execution_count": 515,
   "id": "11f1cd8f-e827-4f3b-97c3-bcf7bae6ae23",
   "metadata": {},
   "outputs": [
    {
     "data": {
      "text/plain": [
       "64330"
      ]
     },
     "execution_count": 515,
     "metadata": {},
     "output_type": "execute_result"
    }
   ],
   "source": [
    "len(G2.nodes())"
   ]
  },
  {
   "cell_type": "code",
   "execution_count": 516,
   "id": "633bead7-95a9-4abf-8bc2-5f7cbe847027",
   "metadata": {},
   "outputs": [
    {
     "data": {
      "text/plain": [
       "4222612"
      ]
     },
     "execution_count": 516,
     "metadata": {},
     "output_type": "execute_result"
    }
   ],
   "source": [
    "G2.size()"
   ]
  },
  {
   "cell_type": "markdown",
   "id": "422182a8-2831-4414-b44d-fa4987841b8b",
   "metadata": {},
   "source": [
    "We have 64,330 movies and 4,222,612 edges."
   ]
  },
  {
   "cell_type": "code",
   "execution_count": 528,
   "id": "c2169d1f-1d25-473d-8ad9-2494a05bd403",
   "metadata": {},
   "outputs": [
    {
     "data": {
      "text/plain": [
       "Text(0.5, 1.0, \"Distribution of node's degrees\")"
      ]
     },
     "execution_count": 528,
     "metadata": {},
     "output_type": "execute_result"
    },
    {
     "data": {
      "image/png": "[encoded data removed]",
      "text/plain": [
       "<Figure size 792x792 with 1 Axes>"
      ]
     },
     "metadata": {},
     "output_type": "display_data"
    }
   ],
   "source": [
    "plt.figure(figsize=(11,11))\n",
    "plt.hist(nx.degree_histogram(G2), log=True, bins=100, facecolor = '#2ab0ff', edgecolor='#169acf', linewidth=0.5)\n",
    "plt.xlabel(\"Node degree\")\n",
    "plt.ylabel(\"Number of occurences\")\n",
    "plt.title(\"Distribution of node's degrees\")"
   ]
  },
  {
   "cell_type": "markdown",
   "id": "f73d14c5-c3b4-4ed8-b084-615e01595fba",
   "metadata": {},
   "source": [
    "We once again, notice something similar, we have a group of movies at the extreme right that has a significantly higher node degree."
   ]
  },
  {
   "cell_type": "code",
   "execution_count": 521,
   "id": "2a4bc43f-323f-41dc-813e-b11687f7fea7",
   "metadata": {},
   "outputs": [],
   "source": [
    "G2.remove_edges_from(nx.selfloop_edges(G2))"
   ]
  },
  {
   "cell_type": "code",
   "execution_count": 523,
   "id": "98c78d84-7e59-4c53-be85-71b891109d6d",
   "metadata": {},
   "outputs": [],
   "source": [
    "G2_60 = nx.k_core(G2)"
   ]
  },
  {
   "cell_type": "code",
   "execution_count": 527,
   "id": "d7e6e5ec-cee1-45bd-b3a2-07ac504c6c50",
   "metadata": {},
   "outputs": [
    {
     "data": {
      "image/png": "[encoded data removed]",
      "text/plain": [
       "<Figure size 432x288 with 1 Axes>"
      ]
     },
     "metadata": {},
     "output_type": "display_data"
    }
   ],
   "source": [
    "nx.draw(G2_60)"
   ]
  },
  {
   "cell_type": "code",
   "execution_count": null,
   "id": "939a8c26-3a2f-4abf-b19d-dd4ebf9d6582",
   "metadata": {},
   "outputs": [],
   "source": []
  }
 ],
 "metadata": {
  "kernelspec": {
   "display_name": "Python 3 (ipykernel)",
   "language": "python",
   "name": "python3"
  },
  "language_info": {
   "codemirror_mode": {
    "name": "ipython",
    "version": 3
   },
   "file_extension": ".py",
   "mimetype": "text/x-python",
   "name": "python",
   "nbconvert_exporter": "python",
   "pygments_lexer": "ipython3",
   "version": "3.9.7"
  }
 },
 "nbformat": 4,
 "nbformat_minor": 5
}
